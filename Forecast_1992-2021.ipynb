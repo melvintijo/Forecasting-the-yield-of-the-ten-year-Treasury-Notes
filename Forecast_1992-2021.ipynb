{
 "cells": [
  {
   "cell_type": "markdown",
   "id": "392a7064-4044-4ce6-80ec-c18c9d436fd1",
   "metadata": {
    "tags": []
   },
   "source": [
    "# Forecast of 10 Year Treasury Notes (1992-2021)"
   ]
  },
  {
   "cell_type": "markdown",
   "id": "f67b4c28-f40c-4417-8e02-a102595ac0e7",
   "metadata": {},
   "source": [
    "#### <font color='darkblue'>__1. Data and libaries import__</font> [(→ Link)](#data_import)\n",
    "#### <font color='darkblue'>__2. Prediction with Regression models filter method__</font> [(→ Link)](#regression_fm)\n",
    "##### <font color='black'>2.1 Create Train & Test set\n",
    "##### <font color='black'>2.2 Linear Regression\n",
    "2.2.1 Feature importance<br>\n",
    "##### <font color='black'>2.3 Ridge\n",
    "2.3.1 Feature importance<br>\n",
    "##### <font color='black'>2.4 ElasticNet\n",
    "2.4.1 Feature importance<br>\n",
    "##### <font color='black'>2.5 Pipeline\n",
    "#### <font color='darkblue'>__3. Prediction with Regression model all features__</font> [(→ Link)](#regression_all)\n",
    "##### <font color='black'>3.1 Create Train & Test set\n",
    "##### <font color='black'>3.2 LASSO Regression\n",
    "3.2.1 Feature importance<br>\n",
    "##### <font color='black'>3.3 Pipeline\n",
    "#### <font color='darkblue'>__4. Classification data preperation__</font> [(→ Link)](#preparation)\n",
    "#### <font color='darkblue'>__5. Classification models with all the features__</font> [(→ Link)](#classification)\n",
    "##### <font color='black'>5.1 Random Forest\n",
    "5.1.1 Feature importance<br>\n",
    "##### <font color='black'>5.2 Neural Network\n",
    "##### <font color='black'>5.3 XGBoost\n",
    "5.3.1 Feature Importance<br>\n",
    "##### <font color='black'>5.4 Pipeline\n",
    "<br>"
   ]
  },
  {
   "cell_type": "markdown",
   "id": "ff4570ba-02bb-43a9-bab5-7deabb3ebf78",
   "metadata": {},
   "source": [
    "## <a id='data_import'></a>\n",
    "## 1. Data and libaries import"
   ]
  },
  {
   "cell_type": "code",
   "execution_count": 1,
   "id": "df296ab0-6c14-4004-b64d-30e751870e9b",
   "metadata": {
    "tags": []
   },
   "outputs": [],
   "source": [
    "# Loading libraries\n",
    "import pandas as pd\n",
    "import statsmodels.api as sm\n",
    "import numpy as np\n",
    "import matplotlib.pyplot as plt\n",
    "import seaborn as sns\n",
    "import pmdarima as pm\n",
    "import warnings  \n",
    "import pydotplus\n",
    "import pydot\n",
    "import xgboost as xgb\n",
    "from sklearn.pipeline import FeatureUnion, Pipeline\n",
    "from sklearn.tree import DecisionTreeRegressor\n",
    "from sklearn.model_selection import train_test_split\n",
    "from sklearn.metrics import *\n",
    "from sklearn.model_selection import cross_val_score\n",
    "from sklearn import tree\n",
    "from sklearn.linear_model import LogisticRegression\n",
    "from sklearn.ensemble import RandomForestRegressor\n",
    "from sklearn.tree import DecisionTreeRegressor\n",
    "from sklearn.model_selection import train_test_split\n",
    "from sklearn.linear_model import LinearRegression\n",
    "from sklearn.feature_selection import RFE\n",
    "from sklearn.linear_model import RidgeCV, LassoCV, Ridge, Lasso\n",
    "from sklearn.neural_network import MLPClassifier\n",
    "from sklearn.tree import export_graphviz\n",
    "from sklearn.model_selection import train_test_split\n",
    "from sklearn.preprocessing import MinMaxScaler, StandardScaler\n",
    "from sklearn.pipeline import make_pipeline\n",
    "from sklearn.pipeline import Pipeline\n",
    "from sklearn.model_selection import GridSearchCV\n",
    "from sklearn.ensemble import RandomForestClassifier\n",
    "from sklearn.model_selection import GridSearchCV\n",
    "from sklearn.linear_model import ElasticNetCV\n",
    "from matplotlib import rcParams\n",
    "from matplotlib import pyplot\n",
    "from functools import reduce\n",
    "from IPython.display import Image  \n",
    "from xgboost import XGBClassifier\n",
    "warnings.filterwarnings('ignore')\n",
    "plt.style.use('seaborn-whitegrid')\n",
    "%matplotlib inline"
   ]
  },
  {
   "cell_type": "code",
   "execution_count": 2,
   "id": "30d2a614-70d3-4007-9768-924d2e5b5901",
   "metadata": {},
   "outputs": [
    {
     "data": {
      "text/html": [
       "<div>\n",
       "<style scoped>\n",
       "    .dataframe tbody tr th:only-of-type {\n",
       "        vertical-align: middle;\n",
       "    }\n",
       "\n",
       "    .dataframe tbody tr th {\n",
       "        vertical-align: top;\n",
       "    }\n",
       "\n",
       "    .dataframe thead th {\n",
       "        text-align: right;\n",
       "    }\n",
       "</style>\n",
       "<table border=\"1\" class=\"dataframe\">\n",
       "  <thead>\n",
       "    <tr style=\"text-align: right;\">\n",
       "      <th></th>\n",
       "      <th>Yield of the ten-year Treasury Notes</th>\n",
       "      <th>Real Risk Premium</th>\n",
       "      <th>Inflation Risk Premium</th>\n",
       "      <th>National Activity Index</th>\n",
       "      <th>Consumer Sentiment</th>\n",
       "      <th>Labor Force Participation</th>\n",
       "      <th>Unemploymentrate</th>\n",
       "      <th>Borrowings from FED</th>\n",
       "      <th>Reserves Depository Institutions</th>\n",
       "      <th>M2</th>\n",
       "      <th>...</th>\n",
       "      <th>10-Year Expected Inflation</th>\n",
       "      <th>Velocity of M2</th>\n",
       "      <th>GDP</th>\n",
       "      <th>Real GDP</th>\n",
       "      <th>Federal Debt</th>\n",
       "      <th>quarterly_mean</th>\n",
       "      <th>half_year_mean</th>\n",
       "      <th>annual_mean</th>\n",
       "      <th>annual_quarterly_mean</th>\n",
       "      <th>annual_half_mean</th>\n",
       "    </tr>\n",
       "    <tr>\n",
       "      <th>Date</th>\n",
       "      <th></th>\n",
       "      <th></th>\n",
       "      <th></th>\n",
       "      <th></th>\n",
       "      <th></th>\n",
       "      <th></th>\n",
       "      <th></th>\n",
       "      <th></th>\n",
       "      <th></th>\n",
       "      <th></th>\n",
       "      <th></th>\n",
       "      <th></th>\n",
       "      <th></th>\n",
       "      <th></th>\n",
       "      <th></th>\n",
       "      <th></th>\n",
       "      <th></th>\n",
       "      <th></th>\n",
       "      <th></th>\n",
       "      <th></th>\n",
       "      <th></th>\n",
       "    </tr>\n",
       "  </thead>\n",
       "  <tbody>\n",
       "    <tr>\n",
       "      <th>1992-12-01</th>\n",
       "      <td>6.77</td>\n",
       "      <td>1.442349</td>\n",
       "      <td>0.546554</td>\n",
       "      <td>0.41</td>\n",
       "      <td>91.0</td>\n",
       "      <td>66.3</td>\n",
       "      <td>7.4</td>\n",
       "      <td>0.1236</td>\n",
       "      <td>56.6</td>\n",
       "      <td>3424.7</td>\n",
       "      <td>...</td>\n",
       "      <td>3.436406</td>\n",
       "      <td>1.964333</td>\n",
       "      <td>4.300000</td>\n",
       "      <td>9851.707667</td>\n",
       "      <td>4.212723e+06</td>\n",
       "      <td>0.984121</td>\n",
       "      <td>0.986706</td>\n",
       "      <td>1.035451</td>\n",
       "      <td>1.052158</td>\n",
       "      <td>1.049401</td>\n",
       "    </tr>\n",
       "    <tr>\n",
       "      <th>1993-01-01</th>\n",
       "      <td>6.60</td>\n",
       "      <td>1.363231</td>\n",
       "      <td>0.503369</td>\n",
       "      <td>0.22</td>\n",
       "      <td>89.3</td>\n",
       "      <td>66.2</td>\n",
       "      <td>7.3</td>\n",
       "      <td>0.1655</td>\n",
       "      <td>56.0</td>\n",
       "      <td>3419.1</td>\n",
       "      <td>...</td>\n",
       "      <td>3.329465</td>\n",
       "      <td>1.971000</td>\n",
       "      <td>2.900000</td>\n",
       "      <td>9857.185000</td>\n",
       "      <td>4.230580e+06</td>\n",
       "      <td>1.016288</td>\n",
       "      <td>1.006061</td>\n",
       "      <td>1.056692</td>\n",
       "      <td>1.039756</td>\n",
       "      <td>1.050326</td>\n",
       "    </tr>\n",
       "    <tr>\n",
       "      <th>1993-02-01</th>\n",
       "      <td>6.26</td>\n",
       "      <td>1.294959</td>\n",
       "      <td>0.464536</td>\n",
       "      <td>0.11</td>\n",
       "      <td>86.6</td>\n",
       "      <td>66.2</td>\n",
       "      <td>7.1</td>\n",
       "      <td>0.0453</td>\n",
       "      <td>53.9</td>\n",
       "      <td>3414.5</td>\n",
       "      <td>...</td>\n",
       "      <td>3.187282</td>\n",
       "      <td>1.975667</td>\n",
       "      <td>3.533333</td>\n",
       "      <td>9876.311667</td>\n",
       "      <td>4.271037e+06</td>\n",
       "      <td>1.058307</td>\n",
       "      <td>1.051917</td>\n",
       "      <td>1.099707</td>\n",
       "      <td>1.039119</td>\n",
       "      <td>1.045432</td>\n",
       "    </tr>\n",
       "    <tr>\n",
       "      <th>1993-03-01</th>\n",
       "      <td>5.98</td>\n",
       "      <td>1.234105</td>\n",
       "      <td>0.446984</td>\n",
       "      <td>-0.47</td>\n",
       "      <td>85.9</td>\n",
       "      <td>66.2</td>\n",
       "      <td>7.0</td>\n",
       "      <td>0.0915</td>\n",
       "      <td>54.3</td>\n",
       "      <td>3411.7</td>\n",
       "      <td>...</td>\n",
       "      <td>3.012067</td>\n",
       "      <td>1.980333</td>\n",
       "      <td>4.166667</td>\n",
       "      <td>9895.438333</td>\n",
       "      <td>4.311493e+06</td>\n",
       "      <td>1.070652</td>\n",
       "      <td>1.088907</td>\n",
       "      <td>1.129459</td>\n",
       "      <td>1.054926</td>\n",
       "      <td>1.037241</td>\n",
       "    </tr>\n",
       "    <tr>\n",
       "      <th>1993-04-01</th>\n",
       "      <td>5.97</td>\n",
       "      <td>1.243659</td>\n",
       "      <td>0.441624</td>\n",
       "      <td>0.21</td>\n",
       "      <td>85.6</td>\n",
       "      <td>66.1</td>\n",
       "      <td>7.1</td>\n",
       "      <td>0.0732</td>\n",
       "      <td>56.5</td>\n",
       "      <td>3411.3</td>\n",
       "      <td>...</td>\n",
       "      <td>3.060806</td>\n",
       "      <td>1.985000</td>\n",
       "      <td>4.800000</td>\n",
       "      <td>9914.565000</td>\n",
       "      <td>4.351950e+06</td>\n",
       "      <td>1.038945</td>\n",
       "      <td>1.073423</td>\n",
       "      <td>1.110274</td>\n",
       "      <td>1.068655</td>\n",
       "      <td>1.034330</td>\n",
       "    </tr>\n",
       "    <tr>\n",
       "      <th>...</th>\n",
       "      <td>...</td>\n",
       "      <td>...</td>\n",
       "      <td>...</td>\n",
       "      <td>...</td>\n",
       "      <td>...</td>\n",
       "      <td>...</td>\n",
       "      <td>...</td>\n",
       "      <td>...</td>\n",
       "      <td>...</td>\n",
       "      <td>...</td>\n",
       "      <td>...</td>\n",
       "      <td>...</td>\n",
       "      <td>...</td>\n",
       "      <td>...</td>\n",
       "      <td>...</td>\n",
       "      <td>...</td>\n",
       "      <td>...</td>\n",
       "      <td>...</td>\n",
       "      <td>...</td>\n",
       "      <td>...</td>\n",
       "      <td>...</td>\n",
       "    </tr>\n",
       "    <tr>\n",
       "      <th>2021-06-01</th>\n",
       "      <td>1.52</td>\n",
       "      <td>1.146639</td>\n",
       "      <td>0.334032</td>\n",
       "      <td>0.21</td>\n",
       "      <td>85.5</td>\n",
       "      <td>61.6</td>\n",
       "      <td>5.9</td>\n",
       "      <td>87.7460</td>\n",
       "      <td>3848.1</td>\n",
       "      <td>20458.9</td>\n",
       "      <td>...</td>\n",
       "      <td>1.596289</td>\n",
       "      <td>1.115667</td>\n",
       "      <td>10.066667</td>\n",
       "      <td>19442.032000</td>\n",
       "      <td>2.846242e+07</td>\n",
       "      <td>1.050987</td>\n",
       "      <td>0.957237</td>\n",
       "      <td>0.727522</td>\n",
       "      <td>0.692227</td>\n",
       "      <td>0.760023</td>\n",
       "    </tr>\n",
       "    <tr>\n",
       "      <th>2021-07-01</th>\n",
       "      <td>1.32</td>\n",
       "      <td>1.156082</td>\n",
       "      <td>0.353131</td>\n",
       "      <td>0.71</td>\n",
       "      <td>81.2</td>\n",
       "      <td>61.7</td>\n",
       "      <td>5.4</td>\n",
       "      <td>87.6211</td>\n",
       "      <td>3943.9</td>\n",
       "      <td>20620.0</td>\n",
       "      <td>...</td>\n",
       "      <td>1.624811</td>\n",
       "      <td>1.114000</td>\n",
       "      <td>8.400000</td>\n",
       "      <td>19478.893000</td>\n",
       "      <td>2.842892e+07</td>\n",
       "      <td>1.155303</td>\n",
       "      <td>1.132576</td>\n",
       "      <td>0.881944</td>\n",
       "      <td>0.763388</td>\n",
       "      <td>0.778707</td>\n",
       "    </tr>\n",
       "    <tr>\n",
       "      <th>2021-08-01</th>\n",
       "      <td>1.28</td>\n",
       "      <td>1.106154</td>\n",
       "      <td>0.386107</td>\n",
       "      <td>0.03</td>\n",
       "      <td>70.3</td>\n",
       "      <td>61.7</td>\n",
       "      <td>5.2</td>\n",
       "      <td>80.7667</td>\n",
       "      <td>4140.1</td>\n",
       "      <td>20852.3</td>\n",
       "      <td>...</td>\n",
       "      <td>1.580163</td>\n",
       "      <td>1.118000</td>\n",
       "      <td>10.433333</td>\n",
       "      <td>19588.025333</td>\n",
       "      <td>2.882502e+07</td>\n",
       "      <td>1.121094</td>\n",
       "      <td>1.170573</td>\n",
       "      <td>0.950521</td>\n",
       "      <td>0.847851</td>\n",
       "      <td>0.812013</td>\n",
       "    </tr>\n",
       "    <tr>\n",
       "      <th>2021-09-01</th>\n",
       "      <td>1.37</td>\n",
       "      <td>1.151900</td>\n",
       "      <td>0.391759</td>\n",
       "      <td>-0.07</td>\n",
       "      <td>72.8</td>\n",
       "      <td>61.7</td>\n",
       "      <td>4.7</td>\n",
       "      <td>68.5677</td>\n",
       "      <td>4193.2</td>\n",
       "      <td>20991.3</td>\n",
       "      <td>...</td>\n",
       "      <td>1.642786</td>\n",
       "      <td>1.122000</td>\n",
       "      <td>12.466667</td>\n",
       "      <td>19697.157667</td>\n",
       "      <td>2.922112e+07</td>\n",
       "      <td>1.001825</td>\n",
       "      <td>1.064477</td>\n",
       "      <td>0.930049</td>\n",
       "      <td>0.928355</td>\n",
       "      <td>0.873714</td>\n",
       "    </tr>\n",
       "    <tr>\n",
       "      <th>2021-10-01</th>\n",
       "      <td>1.58</td>\n",
       "      <td>1.164060</td>\n",
       "      <td>0.388468</td>\n",
       "      <td>0.82</td>\n",
       "      <td>71.7</td>\n",
       "      <td>61.7</td>\n",
       "      <td>4.6</td>\n",
       "      <td>54.5588</td>\n",
       "      <td>4128.1</td>\n",
       "      <td>21142.0</td>\n",
       "      <td>...</td>\n",
       "      <td>1.612740</td>\n",
       "      <td>1.126000</td>\n",
       "      <td>14.500000</td>\n",
       "      <td>19806.290000</td>\n",
       "      <td>2.961722e+07</td>\n",
       "      <td>0.878165</td>\n",
       "      <td>0.916667</td>\n",
       "      <td>0.848101</td>\n",
       "      <td>0.965766</td>\n",
       "      <td>0.925201</td>\n",
       "    </tr>\n",
       "  </tbody>\n",
       "</table>\n",
       "<p>347 rows × 29 columns</p>\n",
       "</div>"
      ],
      "text/plain": [
       "            Yield of the ten-year Treasury Notes  Real Risk Premium  \\\n",
       "Date                                                                  \n",
       "1992-12-01                                  6.77           1.442349   \n",
       "1993-01-01                                  6.60           1.363231   \n",
       "1993-02-01                                  6.26           1.294959   \n",
       "1993-03-01                                  5.98           1.234105   \n",
       "1993-04-01                                  5.97           1.243659   \n",
       "...                                          ...                ...   \n",
       "2021-06-01                                  1.52           1.146639   \n",
       "2021-07-01                                  1.32           1.156082   \n",
       "2021-08-01                                  1.28           1.106154   \n",
       "2021-09-01                                  1.37           1.151900   \n",
       "2021-10-01                                  1.58           1.164060   \n",
       "\n",
       "            Inflation Risk Premium  National Activity Index  \\\n",
       "Date                                                          \n",
       "1992-12-01                0.546554                     0.41   \n",
       "1993-01-01                0.503369                     0.22   \n",
       "1993-02-01                0.464536                     0.11   \n",
       "1993-03-01                0.446984                    -0.47   \n",
       "1993-04-01                0.441624                     0.21   \n",
       "...                            ...                      ...   \n",
       "2021-06-01                0.334032                     0.21   \n",
       "2021-07-01                0.353131                     0.71   \n",
       "2021-08-01                0.386107                     0.03   \n",
       "2021-09-01                0.391759                    -0.07   \n",
       "2021-10-01                0.388468                     0.82   \n",
       "\n",
       "            Consumer Sentiment  Labor Force Participation  Unemploymentrate  \\\n",
       "Date                                                                          \n",
       "1992-12-01                91.0                       66.3               7.4   \n",
       "1993-01-01                89.3                       66.2               7.3   \n",
       "1993-02-01                86.6                       66.2               7.1   \n",
       "1993-03-01                85.9                       66.2               7.0   \n",
       "1993-04-01                85.6                       66.1               7.1   \n",
       "...                        ...                        ...               ...   \n",
       "2021-06-01                85.5                       61.6               5.9   \n",
       "2021-07-01                81.2                       61.7               5.4   \n",
       "2021-08-01                70.3                       61.7               5.2   \n",
       "2021-09-01                72.8                       61.7               4.7   \n",
       "2021-10-01                71.7                       61.7               4.6   \n",
       "\n",
       "            Borrowings from FED  Reserves Depository Institutions       M2  \\\n",
       "Date                                                                         \n",
       "1992-12-01               0.1236                              56.6   3424.7   \n",
       "1993-01-01               0.1655                              56.0   3419.1   \n",
       "1993-02-01               0.0453                              53.9   3414.5   \n",
       "1993-03-01               0.0915                              54.3   3411.7   \n",
       "1993-04-01               0.0732                              56.5   3411.3   \n",
       "...                         ...                               ...      ...   \n",
       "2021-06-01              87.7460                            3848.1  20458.9   \n",
       "2021-07-01              87.6211                            3943.9  20620.0   \n",
       "2021-08-01              80.7667                            4140.1  20852.3   \n",
       "2021-09-01              68.5677                            4193.2  20991.3   \n",
       "2021-10-01              54.5588                            4128.1  21142.0   \n",
       "\n",
       "            ...  10-Year Expected Inflation  Velocity of M2        GDP  \\\n",
       "Date        ...                                                          \n",
       "1992-12-01  ...                    3.436406        1.964333   4.300000   \n",
       "1993-01-01  ...                    3.329465        1.971000   2.900000   \n",
       "1993-02-01  ...                    3.187282        1.975667   3.533333   \n",
       "1993-03-01  ...                    3.012067        1.980333   4.166667   \n",
       "1993-04-01  ...                    3.060806        1.985000   4.800000   \n",
       "...         ...                         ...             ...        ...   \n",
       "2021-06-01  ...                    1.596289        1.115667  10.066667   \n",
       "2021-07-01  ...                    1.624811        1.114000   8.400000   \n",
       "2021-08-01  ...                    1.580163        1.118000  10.433333   \n",
       "2021-09-01  ...                    1.642786        1.122000  12.466667   \n",
       "2021-10-01  ...                    1.612740        1.126000  14.500000   \n",
       "\n",
       "                Real GDP  Federal Debt  quarterly_mean  half_year_mean  \\\n",
       "Date                                                                     \n",
       "1992-12-01   9851.707667  4.212723e+06        0.984121        0.986706   \n",
       "1993-01-01   9857.185000  4.230580e+06        1.016288        1.006061   \n",
       "1993-02-01   9876.311667  4.271037e+06        1.058307        1.051917   \n",
       "1993-03-01   9895.438333  4.311493e+06        1.070652        1.088907   \n",
       "1993-04-01   9914.565000  4.351950e+06        1.038945        1.073423   \n",
       "...                  ...           ...             ...             ...   \n",
       "2021-06-01  19442.032000  2.846242e+07        1.050987        0.957237   \n",
       "2021-07-01  19478.893000  2.842892e+07        1.155303        1.132576   \n",
       "2021-08-01  19588.025333  2.882502e+07        1.121094        1.170573   \n",
       "2021-09-01  19697.157667  2.922112e+07        1.001825        1.064477   \n",
       "2021-10-01  19806.290000  2.961722e+07        0.878165        0.916667   \n",
       "\n",
       "            annual_mean  annual_quarterly_mean  annual_half_mean  \n",
       "Date                                                              \n",
       "1992-12-01     1.035451               1.052158          1.049401  \n",
       "1993-01-01     1.056692               1.039756          1.050326  \n",
       "1993-02-01     1.099707               1.039119          1.045432  \n",
       "1993-03-01     1.129459               1.054926          1.037241  \n",
       "1993-04-01     1.110274               1.068655          1.034330  \n",
       "...                 ...                    ...               ...  \n",
       "2021-06-01     0.727522               0.692227          0.760023  \n",
       "2021-07-01     0.881944               0.763388          0.778707  \n",
       "2021-08-01     0.950521               0.847851          0.812013  \n",
       "2021-09-01     0.930049               0.928355          0.873714  \n",
       "2021-10-01     0.848101               0.965766          0.925201  \n",
       "\n",
       "[347 rows x 29 columns]"
      ]
     },
     "execution_count": 2,
     "metadata": {},
     "output_type": "execute_result"
    }
   ],
   "source": [
    "# Import data and create dataframe\n",
    "df_forecast = pd.read_excel('Prediction_Data_1992-2021.xlsx', index_col=0)\n",
    "df_forecast"
   ]
  },
  {
   "cell_type": "markdown",
   "id": "79da9360-4792-4893-ad74-ee584f6dbb47",
   "metadata": {},
   "source": [
    "## <a id='regression_fm'></a>\n",
    "## 2. Prediction with Regression models filter method"
   ]
  },
  {
   "cell_type": "markdown",
   "id": "9f399976-1aeb-4172-8d73-d7004267be12",
   "metadata": {},
   "source": [
    "### 2.1 Create Train & Test set"
   ]
  },
  {
   "cell_type": "code",
   "execution_count": 3,
   "id": "ba31fb0e-79dd-4c0f-a722-8f164811f33e",
   "metadata": {},
   "outputs": [],
   "source": [
    "# Shift yield forward one month\n",
    "pred = df_forecast['Yield of the ten-year Treasury Notes'].shift(1)\n",
    "df_forecast = df_forecast.iloc[1: , :]"
   ]
  },
  {
   "cell_type": "code",
   "execution_count": 4,
   "id": "c80c2b89-2cd3-4587-a119-a7fe12ee5dcc",
   "metadata": {},
   "outputs": [],
   "source": [
    "y = df_forecast['Yield of the ten-year Treasury Notes']\n",
    "X = df_forecast[['Real Risk Premium',\n",
    "                 'Labor Force Participation',\n",
    "                 'Reserves Depository Institutions',  \n",
    "                 'M2',\n",
    "                 '1-Month Real Interest',\n",
    "                 '1-Year Real Interest',\n",
    "                 '10-Year Real Interest',\n",
    "                 '1-Year Expected Inflation', \n",
    "                 '2-Year Expected Inflation', \n",
    "                 '3-Year Expected Inflation', \n",
    "                 '4-Year Expected Inflation',\n",
    "                 '5-Year Expected Inflation',\n",
    "                 '10-Year Expected Inflation',\n",
    "                 'Velocity of M2',\n",
    "                 'Real GDP',\n",
    "                 'Federal Debt']]"
   ]
  },
  {
   "cell_type": "code",
   "execution_count": 5,
   "id": "00352b4f-0ad5-49da-8f8d-97d9fc548dc2",
   "metadata": {},
   "outputs": [],
   "source": [
    "X_train, X_test, y_train, y_test = train_test_split(X, y, test_size=0.20, shuffle=False)"
   ]
  },
  {
   "cell_type": "code",
   "execution_count": 6,
   "id": "1d004ce6-375b-438c-896c-bb83d5fd78a3",
   "metadata": {},
   "outputs": [
    {
     "name": "stdout",
     "output_type": "stream",
     "text": [
      "Number of training data: 276\n",
      "Number of test data: 70\n"
     ]
    }
   ],
   "source": [
    "print('Number of training data:', len(X_train))\n",
    "print('Number of test data:', len(X_test))"
   ]
  },
  {
   "cell_type": "markdown",
   "id": "79b43dcd-a5d3-4871-8bd8-3bc08a96f489",
   "metadata": {},
   "source": [
    "### 2.2 Linear Regression"
   ]
  },
  {
   "cell_type": "code",
   "execution_count": 7,
   "id": "67f160d9-cfdb-4353-9038-4610518c4363",
   "metadata": {},
   "outputs": [
    {
     "data": {
      "text/plain": [
       "LinearRegression()"
      ]
     },
     "execution_count": 7,
     "metadata": {},
     "output_type": "execute_result"
    }
   ],
   "source": [
    "# Create Linear Regression model\n",
    "lr = LinearRegression()\n",
    "lr.fit(X_train, y_train)"
   ]
  },
  {
   "cell_type": "code",
   "execution_count": 8,
   "id": "7e93f370-4976-44f4-ad33-e8501c98d4f4",
   "metadata": {},
   "outputs": [
    {
     "name": "stdout",
     "output_type": "stream",
     "text": [
      "Training Set Score R^2: 0.99\n",
      "Test Set Score R^2: 0.79\n"
     ]
    }
   ],
   "source": [
    "print (\"Training Set Score R^2: {:.2f}\".format(lr.score(X_train, y_train)))\n",
    "print (\"Test Set Score R^2: {:.2f}\".format(lr.score(X_test, y_test)))"
   ]
  },
  {
   "cell_type": "markdown",
   "id": "b7db7c8b-9d47-49d1-b570-12cf169d5a69",
   "metadata": {},
   "source": [
    "#### 2.2.1 Feature importance"
   ]
  },
  {
   "cell_type": "code",
   "execution_count": 9,
   "id": "07b596b7-3318-43c2-81cd-1b09c7db013f",
   "metadata": {},
   "outputs": [
    {
     "data": {
      "text/plain": [
       "<AxesSubplot:ylabel='features'>"
      ]
     },
     "execution_count": 9,
     "metadata": {},
     "output_type": "execute_result"
    },
    {
     "data": {
      "image/png": "[encoded data removed]",
      "text/plain": [
       "<Figure size 1080x360 with 1 Axes>"
      ]
     },
     "metadata": {
      "needs_background": "light"
     },
     "output_type": "display_data"
    }
   ],
   "source": [
    "cols = X_train.columns\n",
    "\n",
    "# Derive feature importance from Linear Regression\n",
    "importances = lr.coef_\n",
    "indices     = np.argsort(importances)[::-1]\n",
    "\n",
    "# Barplot with feature importance\n",
    "df = pd.DataFrame({'features':cols,'importances': importances})\n",
    "df.sort_values('importances', inplace=True)\n",
    "df.plot(kind='barh', y='importances', x='features', color='r', figsize=(15,5))"
   ]
  },
  {
   "cell_type": "markdown",
   "id": "969ccdef-f44a-45fc-bf1c-68a43721c9e4",
   "metadata": {},
   "source": [
    "### 2.3 Ridge"
   ]
  },
  {
   "cell_type": "code",
   "execution_count": 10,
   "id": "d9e22884-b3f5-4dff-8ae1-646ac40885d5",
   "metadata": {},
   "outputs": [
    {
     "data": {
      "text/plain": [
       "Ridge(alpha=10)"
      ]
     },
     "execution_count": 10,
     "metadata": {},
     "output_type": "execute_result"
    }
   ],
   "source": [
    "# Create Ridge model\n",
    "rr10 = Ridge(alpha=10)\n",
    "rr10.fit(X_train, y_train)"
   ]
  },
  {
   "cell_type": "code",
   "execution_count": 11,
   "id": "2b3fbb5c-9d61-4c53-b30d-9074f9dea45b",
   "metadata": {},
   "outputs": [
    {
     "name": "stdout",
     "output_type": "stream",
     "text": [
      "Training Set Score R^2: 0.98\n",
      "Test Set Score R^2: 0.83\n"
     ]
    }
   ],
   "source": [
    "print (\"Training Set Score R^2: {:.2f}\".format(rr10.score(X_train, y_train)))\n",
    "print (\"Test Set Score R^2: {:.2f}\".format(rr10.score(X_test, y_test)))"
   ]
  },
  {
   "cell_type": "markdown",
   "id": "5fd883f5-7b55-4029-a6b4-3ff480572963",
   "metadata": {},
   "source": [
    "#### 2.3.1 Feature importance"
   ]
  },
  {
   "cell_type": "code",
   "execution_count": 12,
   "id": "b26a6872-f776-43df-a30b-987d641e9fab",
   "metadata": {},
   "outputs": [],
   "source": [
    "cols = X_train.columns"
   ]
  },
  {
   "cell_type": "code",
   "execution_count": 13,
   "id": "5b1e5201-c7ba-4b07-905b-24b09dc1176f",
   "metadata": {},
   "outputs": [
    {
     "data": {
      "text/plain": [
       "<AxesSubplot:ylabel='features'>"
      ]
     },
     "execution_count": 13,
     "metadata": {},
     "output_type": "execute_result"
    },
    {
     "data": {
      "image/png": "[encoded data removed]",
      "text/plain": [
       "<Figure size 1080x360 with 1 Axes>"
      ]
     },
     "metadata": {
      "needs_background": "light"
     },
     "output_type": "display_data"
    }
   ],
   "source": [
    "# Derive feature importance from Ridge with alpha 10\n",
    "importances = rr10.coef_\n",
    "indices     = np.argsort(importances)[::-1]\n",
    "\n",
    "# Barplot with feature importance\n",
    "df = pd.DataFrame({'features':cols,'importances': importances})\n",
    "df.sort_values('importances', inplace=True)\n",
    "df.plot(kind='barh', y='importances', x='features', color='r', figsize=(15,5))"
   ]
  },
  {
   "cell_type": "markdown",
   "id": "2cdf3eda-9dd7-4bae-8c22-a88a4e85b04e",
   "metadata": {},
   "source": [
    "### 2.3 Elastic Net"
   ]
  },
  {
   "cell_type": "code",
   "execution_count": 14,
   "id": "c8f1c9ea-66d2-4646-b34f-adeeee3562ee",
   "metadata": {},
   "outputs": [
    {
     "data": {
      "text/plain": [
       "Pipeline(steps=[('standardscaler', StandardScaler()),\n",
       "                ('elasticnetcv', ElasticNetCV())])"
      ]
     },
     "execution_count": 14,
     "metadata": {},
     "output_type": "execute_result"
    }
   ],
   "source": [
    "# Create Elastic Net model\n",
    "encv = make_pipeline(StandardScaler(), ElasticNetCV())\n",
    "encv.fit(X_train,y_train)"
   ]
  },
  {
   "cell_type": "code",
   "execution_count": 15,
   "id": "a63e04b7-c99e-498b-9ae1-0b1000b763ce",
   "metadata": {},
   "outputs": [
    {
     "name": "stdout",
     "output_type": "stream",
     "text": [
      "Training Set Score R^2: 0.98\n",
      "Test Set Score R^2: 0.84\n"
     ]
    }
   ],
   "source": [
    "print (\"Training Set Score R^2: {:.2f}\".format(encv.score(X_train, y_train)))\n",
    "print (\"Test Set Score R^2: {:.2f}\".format(encv.score(X_test, y_test)))"
   ]
  },
  {
   "cell_type": "markdown",
   "id": "d5a737c6-cbab-4415-8255-685b7da0a984",
   "metadata": {},
   "source": [
    "#### 2.3.1 Feature importance"
   ]
  },
  {
   "cell_type": "code",
   "execution_count": 16,
   "id": "e74143bf-0711-49fa-a227-8edd9e89b036",
   "metadata": {},
   "outputs": [],
   "source": [
    "encv_cv_coef = encv[-1].coef_"
   ]
  },
  {
   "cell_type": "code",
   "execution_count": 17,
   "id": "47eede25-555e-4dd9-b176-0c7fe3945cd0",
   "metadata": {},
   "outputs": [
    {
     "data": {
      "text/plain": [
       "<AxesSubplot:ylabel='features'>"
      ]
     },
     "execution_count": 17,
     "metadata": {},
     "output_type": "execute_result"
    },
    {
     "data": {
      "image/png": "[encoded data removed]",
      "text/plain": [
       "<Figure size 1080x360 with 1 Axes>"
      ]
     },
     "metadata": {
      "needs_background": "light"
     },
     "output_type": "display_data"
    }
   ],
   "source": [
    "# Derive feature importance from Elastic Net\n",
    "importances = encv_cv_coef\n",
    "indices     = np.argsort(importances)[::-1]\n",
    "\n",
    "# Barplot with feature importance\n",
    "df = pd.DataFrame({'features':cols,'importances': importances})\n",
    "df.sort_values('importances', inplace=True)\n",
    "df.plot(kind='barh', y='importances', x='features', color='r', figsize=(15,5))"
   ]
  },
  {
   "cell_type": "markdown",
   "id": "17a6eeb3-77ef-46f7-9303-3ed0f5e13984",
   "metadata": {
    "tags": []
   },
   "source": [
    "### 2.4 Pipeline"
   ]
  },
  {
   "cell_type": "code",
   "execution_count": 18,
   "id": "f17cb554-8d18-4928-9a72-ae15f06483da",
   "metadata": {},
   "outputs": [],
   "source": [
    "# Name of all the models\n",
    "models = [\n",
    "    ('Linear Regression', lr),\n",
    "    ('Ridge, Alpha 10', rr10),\n",
    "    ('ElasticNetCV', encv),]"
   ]
  },
  {
   "cell_type": "code",
   "execution_count": 19,
   "id": "62fc1f28-de92-48e1-9dc9-6c0a762783fc",
   "metadata": {},
   "outputs": [
    {
     "name": "stdout",
     "output_type": "stream",
     "text": [
      "Model:  Linear Regression  | R2 Train:  0.9872233667319595\n",
      "Model:  Linear Regression  | R2 Test:  0.787287812581986\n",
      "Model:  Linear Regression  | MAE:  0.23525512663898718\n",
      "Model:  Linear Regression  | MSE:  0.10428703792092692\n",
      "Model:  Linear Regression  | RMSE:  0.32293503668838247\n",
      "Model:  Linear Regression  | MAPE:  0.14588312461886027\n",
      "----------------\n",
      "Model:  Ridge, Alpha 10  | R2 Train:  0.9824663630151337\n",
      "Model:  Ridge, Alpha 10  | R2 Test:  0.833394889235428\n",
      "Model:  Ridge, Alpha 10  | MAE:  0.22703244343357096\n",
      "Model:  Ridge, Alpha 10  | MSE:  0.0816819840697747\n",
      "Model:  Ridge, Alpha 10  | RMSE:  0.28580060194088935\n",
      "Model:  Ridge, Alpha 10  | MAPE:  0.1636627142153466\n",
      "----------------\n",
      "Model:  ElasticNetCV  | R2 Train:  0.9832505149123097\n",
      "Model:  ElasticNetCV  | R2 Test:  0.8445303293034958\n",
      "Model:  ElasticNetCV  | MAE:  0.23397704483124596\n",
      "Model:  ElasticNetCV  | MSE:  0.0762225786885368\n",
      "Model:  ElasticNetCV  | RMSE:  0.27608436878703724\n",
      "Model:  ElasticNetCV  | MAPE:  0.16003640248833986\n",
      "----------------\n"
     ]
    }
   ],
   "source": [
    "for name, model in models:\n",
    "    pipelined_model = Pipeline([ \n",
    "                                 (name, model)\n",
    "                            ])\n",
    "    \n",
    "    # Train the model\n",
    "    pipelined_model.fit(X_train, y_train)\n",
    "\n",
    "    # Predict the model\n",
    "    y_hat = pipelined_model.predict(X_test)\n",
    "\n",
    "    # Calculate metrics\n",
    "    MAE = mean_absolute_error(y_test, y_hat)\n",
    "    MSE = mean_squared_error(y_test, y_hat, squared=True)\n",
    "    RMSE = mean_squared_error(y_test, y_hat, squared=False)\n",
    "    MAPE = mean_absolute_percentage_error(y_test, y_hat)\n",
    "    R2_train = pipelined_model.score(X_train, y_train)\n",
    "    R2_test = r2_score(y_test, y_hat)\n",
    "    print('Model: ', name, ' | R2 Train: ', R2_train)\n",
    "    print('Model: ', name, ' | R2 Test: ', R2_test)\n",
    "    print('Model: ', name, ' | MAE: ', MAE)\n",
    "    print('Model: ', name, ' | MSE: ', MSE)\n",
    "    print('Model: ', name, ' | RMSE: ', RMSE)\n",
    "    print('Model: ', name, ' | MAPE: ', MAPE)\n",
    "    print('----------------')"
   ]
  },
  {
   "cell_type": "markdown",
   "id": "d1a29310-093b-49d1-95f0-049714676368",
   "metadata": {},
   "source": [
    "## <a id='regression_all'></a>\n",
    "## 3. Prediction with Regression model all features"
   ]
  },
  {
   "cell_type": "markdown",
   "id": "5b00e203-fba3-4242-8e5f-801987df852d",
   "metadata": {},
   "source": [
    "### 3.1 Create Train & Test set"
   ]
  },
  {
   "cell_type": "code",
   "execution_count": 20,
   "id": "1be84889-c521-40e8-96f5-96706dfc2b26",
   "metadata": {},
   "outputs": [],
   "source": [
    "y = df_forecast['Yield of the ten-year Treasury Notes']\n",
    "X = df_forecast.drop('Yield of the ten-year Treasury Notes',1)"
   ]
  },
  {
   "cell_type": "code",
   "execution_count": 21,
   "id": "0aa434db-d58c-4893-9dc6-9448041c4c4c",
   "metadata": {},
   "outputs": [],
   "source": [
    "X_train, X_test, y_train, y_test = train_test_split(X, y, test_size=0.20, shuffle=False)"
   ]
  },
  {
   "cell_type": "code",
   "execution_count": 22,
   "id": "7fa934e1-023a-4848-b220-7aaf34baaf61",
   "metadata": {},
   "outputs": [
    {
     "name": "stdout",
     "output_type": "stream",
     "text": [
      "Number of training data: 276\n",
      "Number of test data: 70\n"
     ]
    }
   ],
   "source": [
    "print('Number of training data:', len(X_train))\n",
    "print('Number of test data:', len(X_test))"
   ]
  },
  {
   "cell_type": "markdown",
   "id": "2b30e821-1675-4a92-8728-05f55da91bc8",
   "metadata": {},
   "source": [
    "### 3.2 LASSO"
   ]
  },
  {
   "cell_type": "code",
   "execution_count": 23,
   "id": "6856d23a-83aa-42f9-bd8f-8e45cd219009",
   "metadata": {},
   "outputs": [
    {
     "data": {
      "text/plain": [
       "Pipeline(steps=[('standardscaler', StandardScaler()), ('lassocv', LassoCV())])"
      ]
     },
     "execution_count": 23,
     "metadata": {},
     "output_type": "execute_result"
    }
   ],
   "source": [
    "# Create LASSO model\n",
    "lasso = make_pipeline(StandardScaler(), LassoCV())\n",
    "lasso.fit(X_train,y_train)"
   ]
  },
  {
   "cell_type": "code",
   "execution_count": 24,
   "id": "6d2d24cd-b629-4d7f-84b2-808bf8be2de3",
   "metadata": {},
   "outputs": [
    {
     "name": "stdout",
     "output_type": "stream",
     "text": [
      "Training Set Score R^2: 0.99\n",
      "Test Set Score R^2: 0.82\n"
     ]
    }
   ],
   "source": [
    "print (\"Training Set Score R^2: {:.2f}\".format(lasso.score(X_train, y_train)))\n",
    "print (\"Test Set Score R^2: {:.2f}\".format(lasso.score(X_test, y_test)))"
   ]
  },
  {
   "cell_type": "code",
   "execution_count": 25,
   "id": "51c35db7-adfe-4996-b5ae-b5a3c837290a",
   "metadata": {},
   "outputs": [
    {
     "name": "stdout",
     "output_type": "stream",
     "text": [
      "Training Set Score R^2: 0.99\n",
      "Test Set Score R^2: 0.82\n"
     ]
    }
   ],
   "source": [
    "print (\"Training Set Score R^2: {:.2f}\".format(lasso.score(X_train, y_train)))\n",
    "print (\"Test Set Score R^2: {:.2f}\".format(lasso.score(X_test, y_test)))"
   ]
  },
  {
   "cell_type": "markdown",
   "id": "4ae769d5-1d5f-4516-9651-1ec62a913b37",
   "metadata": {},
   "source": [
    "#### 3.2.1 Feature importance"
   ]
  },
  {
   "cell_type": "code",
   "execution_count": 26,
   "id": "6a0a51dd-2b89-4dbd-996e-7241c942c1cc",
   "metadata": {},
   "outputs": [],
   "source": [
    "lasso_cv_coef = lasso[-1].coef_"
   ]
  },
  {
   "cell_type": "code",
   "execution_count": 27,
   "id": "b5b8f22d-f8b3-4f00-a2f1-a3bd249d8196",
   "metadata": {},
   "outputs": [],
   "source": [
    "cols = X_train.columns"
   ]
  },
  {
   "cell_type": "code",
   "execution_count": 28,
   "id": "f90661c6-eaa8-4384-9716-4d30dc4098d0",
   "metadata": {},
   "outputs": [
    {
     "data": {
      "text/plain": [
       "<AxesSubplot:ylabel='features'>"
      ]
     },
     "execution_count": 28,
     "metadata": {},
     "output_type": "execute_result"
    },
    {
     "data": {
      "image/png": "[encoded data removed]",
      "text/plain": [
       "<Figure size 1080x360 with 1 Axes>"
      ]
     },
     "metadata": {
      "needs_background": "light"
     },
     "output_type": "display_data"
    }
   ],
   "source": [
    "# Derive feature importance from LASSO\n",
    "importances = lasso_cv_coef\n",
    "indices     = np.argsort(importances)[::-1]\n",
    "\n",
    "# Barplot with feature importance\n",
    "df = pd.DataFrame({'features':cols,'importances': importances})\n",
    "df.sort_values('importances', inplace=True)\n",
    "df.plot(kind='barh', y='importances', x='features', color='r', figsize=(15,5))"
   ]
  },
  {
   "cell_type": "markdown",
   "id": "4e1092e6-abc1-422b-869f-c1ca79f3951f",
   "metadata": {},
   "source": [
    "### 3.3 Pipeline"
   ]
  },
  {
   "cell_type": "code",
   "execution_count": 29,
   "id": "25dbf4a5-e1f8-4652-97e1-fe2a999c8537",
   "metadata": {},
   "outputs": [],
   "source": [
    "# Name of all the models\n",
    "models = [('LASSO',lasso)]"
   ]
  },
  {
   "cell_type": "code",
   "execution_count": 30,
   "id": "2e5d4f97-abc2-4fd4-a811-34e52b543a85",
   "metadata": {},
   "outputs": [
    {
     "name": "stdout",
     "output_type": "stream",
     "text": [
      "Model:  LASSO  | R2 Train:  0.9915808755264954\n",
      "Model:  LASSO  | R2 Test:  0.8175897559487412\n",
      "Model:  LASSO  | MAE:  0.201813559130836\n",
      "Model:  LASSO  | MSE:  0.08943081385908477\n",
      "Model:  LASSO  | RMSE:  0.29904985179579135\n",
      "Model:  LASSO  | MAPE:  0.14288428730191058\n",
      "----------------\n"
     ]
    }
   ],
   "source": [
    "for name, model in models:\n",
    "    pipelined_model = Pipeline([ \n",
    "                                 (name, model)\n",
    "                            ])\n",
    "    \n",
    "    # Train the model\n",
    "    pipelined_model.fit(X_train, y_train)\n",
    "\n",
    "    # Predict the model\n",
    "    y_hat = pipelined_model.predict(X_test)\n",
    "\n",
    "    # Calculate metrics\n",
    "    MAE = mean_absolute_error(y_test, y_hat)\n",
    "    MSE = mean_squared_error(y_test, y_hat, squared=True)\n",
    "    RMSE = mean_squared_error(y_test, y_hat, squared=False)\n",
    "    MAPE = mean_absolute_percentage_error(y_test, y_hat)\n",
    "    R2_train = pipelined_model.score(X_train, y_train)\n",
    "    R2_test = r2_score(y_test, y_hat)\n",
    "    print('Model: ', name, ' | R2 Train: ', R2_train)\n",
    "    print('Model: ', name, ' | R2 Test: ', R2_test)\n",
    "    print('Model: ', name, ' | MAE: ', MAE)\n",
    "    print('Model: ', name, ' | MSE: ', MSE)\n",
    "    print('Model: ', name, ' | RMSE: ', RMSE)\n",
    "    print('Model: ', name, ' | MAPE: ', MAPE)\n",
    "    print('----------------')"
   ]
  },
  {
   "cell_type": "markdown",
   "id": "5c372527-09f1-4482-b2f6-0927c0c7ae35",
   "metadata": {
    "tags": []
   },
   "source": [
    "## <a id='preparation'></a>\n",
    "## 4 Classification data preperation"
   ]
  },
  {
   "cell_type": "code",
   "execution_count": 31,
   "id": "7b240fa4-e3dc-4122-b066-d49ee6cc8370",
   "metadata": {},
   "outputs": [],
   "source": [
    "# Create dataframe\n",
    "classification = df_forecast.copy()"
   ]
  },
  {
   "cell_type": "code",
   "execution_count": 32,
   "id": "190332d9-dc67-4b94-b546-2097c098ddc1",
   "metadata": {},
   "outputs": [],
   "source": [
    "# Rename the column\n",
    "data = classification[[\"Yield of the ten-year Treasury Notes\"]]\n",
    "data = data.rename(columns = {'Yield of the ten-year Treasury Notes':'Yield'})\n",
    "\n",
    "# Setup target variable.  This identifies if the price went up or down.\n",
    "data[\"Target\"] = classification.rolling(2).apply(lambda x: x.iloc[1] > x.iloc[0])[\"Yield of the ten-year Treasury Notes\"]"
   ]
  },
  {
   "cell_type": "code",
   "execution_count": 33,
   "id": "c03f8b4a-f7e0-41a5-ae2a-cf61049e5288",
   "metadata": {},
   "outputs": [
    {
     "data": {
      "image/png": "[encoded data removed]",
      "text/plain": [
       "<Figure size 288x288 with 1 Axes>"
      ]
     },
     "metadata": {
      "needs_background": "light"
     },
     "output_type": "display_data"
    }
   ],
   "source": [
    "# Visualize the data\n",
    "fig, ax = plt.subplots(figsize=(4, 4))\n",
    "fig.suptitle('Distribution of Yields', fontsize=20, y=1.1, ha=\"center\")\n",
    "plt.hist(data.Target)\n",
    "ax.xaxis.set_ticks([0,1]) \n",
    "plt.show()"
   ]
  },
  {
   "cell_type": "code",
   "execution_count": 34,
   "id": "4bf60bdd-0110-4348-a115-d755b5ca66d2",
   "metadata": {},
   "outputs": [],
   "source": [
    "# Create training data\n",
    "x = classification.drop('Yield of the ten-year Treasury Notes',1)\n",
    "predictors = x"
   ]
  },
  {
   "cell_type": "code",
   "execution_count": 35,
   "id": "2e385541-a89a-4bfc-8e53-99a4e343420f",
   "metadata": {},
   "outputs": [],
   "source": [
    "# Merging both dataframes\n",
    "forecast = [data, predictors]\n",
    "\n",
    "forecast = reduce(lambda  left,right: pd.merge(left,right,on=['Date'],\n",
    "                                            how='outer'), forecast)"
   ]
  },
  {
   "cell_type": "code",
   "execution_count": 36,
   "id": "15fbb78f-ae5f-4173-8e4e-fa3462aa5215",
   "metadata": {},
   "outputs": [],
   "source": [
    "# Dropping first row because of NAN values\n",
    "forecast = forecast.iloc[1: , :]"
   ]
  },
  {
   "cell_type": "markdown",
   "id": "1477418b-c849-4f7d-8dcc-5f64c18232c3",
   "metadata": {},
   "source": [
    "## <a id='classification'></a>\n",
    "## 5 Classification models with all the features"
   ]
  },
  {
   "cell_type": "markdown",
   "id": "11526d0b-c065-435a-ac27-547ff0d0ca91",
   "metadata": {},
   "source": [
    "### Definition of variables, train-test splitting"
   ]
  },
  {
   "cell_type": "code",
   "execution_count": 37,
   "id": "635fcca8-f455-449a-97ef-120d3957a458",
   "metadata": {},
   "outputs": [],
   "source": [
    "# Create predictors and target variables\n",
    "predictors = forecast.drop(['Yield','Target'], axis=1)\n",
    "target = forecast['Target']"
   ]
  },
  {
   "cell_type": "code",
   "execution_count": 38,
   "id": "cb4cb5f7-51c6-4f5b-9db1-bc6898e94071",
   "metadata": {},
   "outputs": [],
   "source": [
    "# Split the dataframes into test and train\n",
    "X_train, X_test, y_train, y_test = train_test_split(predictors, target, test_size=0.20, shuffle=False)"
   ]
  },
  {
   "cell_type": "code",
   "execution_count": 39,
   "id": "85d4febb-1a90-4af5-ab76-a117e44bea0c",
   "metadata": {},
   "outputs": [
    {
     "name": "stdout",
     "output_type": "stream",
     "text": [
      "Number of training data: 276\n",
      "Number of test data: 69\n"
     ]
    }
   ],
   "source": [
    "print('Number of training data:', len(X_train))\n",
    "print('Number of test data:', len(X_test))"
   ]
  },
  {
   "cell_type": "markdown",
   "id": "2df4e729-b311-4aba-be5f-0d9c94ddf56e",
   "metadata": {},
   "source": [
    "### 5.1 Random Forest"
   ]
  },
  {
   "cell_type": "code",
   "execution_count": 40,
   "id": "f0ab96d7-9758-4d64-b9b8-32df20fb2070",
   "metadata": {},
   "outputs": [
    {
     "data": {
      "text/plain": [
       "RandomForestClassifier(max_depth=100)"
      ]
     },
     "execution_count": 40,
     "metadata": {},
     "output_type": "execute_result"
    }
   ],
   "source": [
    "# Create Random Forest model \n",
    "rf100 = RandomForestClassifier(max_depth =100)\n",
    "rf100.fit(X_train,y_train)"
   ]
  },
  {
   "cell_type": "code",
   "execution_count": 41,
   "id": "9ad14f09-2ed6-49ee-b92f-9418fc9d5770",
   "metadata": {},
   "outputs": [],
   "source": [
    "# Evaluate Random Forest\n",
    "pred_train = rf100.predict(X_train)\n",
    "pred_test = rf100.predict(X_test)"
   ]
  },
  {
   "cell_type": "code",
   "execution_count": 42,
   "id": "1c4d5117-8292-4a82-af23-c1fd2b107341",
   "metadata": {},
   "outputs": [
    {
     "name": "stdout",
     "output_type": "stream",
     "text": [
      "Accuracy score Train: 1.0\n",
      "Accuracy score Test: 0.7536\n",
      "Precision score Test: 0.697\n",
      "Recall score Test: 0.7667\n",
      "F1 Score Test: 0.7302\n"
     ]
    }
   ],
   "source": [
    "# Calculate metrics\n",
    "print(\"Accuracy score Train:\", np.round(accuracy_score(pred_train, y_train),4))\n",
    "print(\"Accuracy score Test:\", np.round(accuracy_score(pred_test, y_test),4))\n",
    "\n",
    "print(\"Precision score Test:\", np.round(precision_score(pred_test, y_test), 4))\n",
    "\n",
    "print(\"Recall score Test:\", np.round(recall_score(pred_test, y_test), 4))\n",
    "\n",
    "print(\"F1 Score Test:\", np.round(f1_score(pred_test, y_test),4))"
   ]
  },
  {
   "cell_type": "code",
   "execution_count": 43,
   "id": "117cf518-2727-4362-9632-c888ef2a04dc",
   "metadata": {},
   "outputs": [
    {
     "name": "stdout",
     "output_type": "stream",
     "text": [
      "[[29  7]\n",
      " [10 23]]\n"
     ]
    },
    {
     "data": {
      "image/png": "[encoded data removed]",
      "text/plain": [
       "<Figure size 432x288 with 2 Axes>"
      ]
     },
     "metadata": {
      "needs_background": "light"
     },
     "output_type": "display_data"
    }
   ],
   "source": [
    "# Display the confusion matrix\n",
    "cf_matrix = confusion_matrix(y_test, pred_test)\n",
    "print(cf_matrix)\n",
    "\n",
    "group_names = ['True Neg','False Pos','False Neg','True Pos']\n",
    "\n",
    "group_counts = [\"{0:0.0f}\".format(value) for value in\n",
    "                cf_matrix.flatten()]\n",
    "\n",
    "group_percentages = [\"{0:.2%}\".format(value) for value in\n",
    "                     cf_matrix.flatten()/np.sum(cf_matrix)]\n",
    "\n",
    "labels = [f\"{v1}\\n{v2}\\n{v3}\" for v1, v2, v3 in\n",
    "          zip(group_names,group_counts,group_percentages)]\n",
    "\n",
    "labels = np.asarray(labels).reshape(2,2)\n",
    "\n",
    "ax = sns.heatmap(cf_matrix, annot=labels, fmt='', cmap='Blues')\n",
    "\n",
    "ax.set_title('Seaborn Confusion Matrix with labels\\n\\n');\n",
    "ax.set_xlabel('\\nPredicted Values')\n",
    "ax.set_ylabel('Actual Values ');\n",
    "\n",
    "# Ticket labels\n",
    "ax.xaxis.set_ticklabels(['False','True'])\n",
    "ax.yaxis.set_ticklabels(['False','True'])\n",
    "\n",
    "# Display the visualization of the Confusion Matrix.\n",
    "plt.show()"
   ]
  },
  {
   "cell_type": "code",
   "execution_count": 44,
   "id": "2dfe6295-c87f-4ee6-bd9a-90b2d9feb323",
   "metadata": {},
   "outputs": [
    {
     "name": "stdout",
     "output_type": "stream",
     "text": [
      "0.7512626262626263\n"
     ]
    },
    {
     "data": {
      "image/png": "[encoded data removed]",
      "text/plain": [
       "<Figure size 432x288 with 1 Axes>"
      ]
     },
     "metadata": {
      "needs_background": "light"
     },
     "output_type": "display_data"
    }
   ],
   "source": [
    "# Calculating the AUC and plotting the ROC curve\n",
    "false_positive_rate , true_positive_rate , thresholds = roc_curve(y_test , pred_test)\n",
    "roc_auc = auc(false_positive_rate , true_positive_rate) \n",
    "print(roc_auc)\n",
    "\n",
    "#Show ROC\n",
    "plt.title('ROC')\n",
    "plt.plot(false_positive_rate ,true_positive_rate ,'b' , label='AUC = %0.2f '% roc_auc) \n",
    "plt.legend(loc='lower right') \n",
    "plt.plot([0 ,1] ,[0 ,1] , 'r') \n",
    "plt.xlim([ -0.1 ,1.2])\n",
    "plt.ylim ([ -0.1 ,1.2])\n",
    "plt.ylabel('True-Positiv Rate')\n",
    "plt.xlabel('False-Positiv Rate')\n",
    "#plt.savefig('roc2.png', dpi=500) \n",
    "plt.show()"
   ]
  },
  {
   "cell_type": "markdown",
   "id": "702a9a26-add5-41ac-8397-432e7eb40fee",
   "metadata": {},
   "source": [
    "#### 5.1.1 Feature importance"
   ]
  },
  {
   "cell_type": "code",
   "execution_count": 45,
   "id": "b6ee27d2-dccf-406a-80ba-5b003ce86198",
   "metadata": {},
   "outputs": [],
   "source": [
    "cols = X_train.columns"
   ]
  },
  {
   "cell_type": "code",
   "execution_count": 46,
   "id": "e57baee8-c8b2-4210-8d00-83cc52087756",
   "metadata": {},
   "outputs": [
    {
     "data": {
      "text/plain": [
       "<AxesSubplot:ylabel='features'>"
      ]
     },
     "execution_count": 46,
     "metadata": {},
     "output_type": "execute_result"
    },
    {
     "data": {
      "image/png": "[encoded data removed]",
      "text/plain": [
       "<Figure size 1080x360 with 1 Axes>"
      ]
     },
     "metadata": {
      "needs_background": "light"
     },
     "output_type": "display_data"
    }
   ],
   "source": [
    "# Derive feature importance from Random Forest wit 100 trees\n",
    "importances = rf100.feature_importances_\n",
    "std         = np.std([tree.feature_importances_ for tree in rf100.estimators_], axis=0)\n",
    "indices     = np.argsort(importances)[::-1]\n",
    "\n",
    "\n",
    "# Barplot with feature importance\n",
    "df = pd.DataFrame({'features':cols,'importances': importances})\n",
    "df.sort_values('importances', inplace=True)\n",
    "df.plot(kind='barh', y='importances', x='features', color='r', figsize=(15,5))"
   ]
  },
  {
   "cell_type": "markdown",
   "id": "95508285-8dc1-48b5-b4b7-9dd4b1d63ae5",
   "metadata": {},
   "source": [
    "### 5.2 Neural Network"
   ]
  },
  {
   "cell_type": "code",
   "execution_count": 47,
   "id": "c947a424-a757-44f3-8e86-85462f09ca72",
   "metadata": {},
   "outputs": [
    {
     "data": {
      "text/plain": [
       "Pipeline(steps=[('standardscaler', StandardScaler()),\n",
       "                ('mlpclassifier', MLPClassifier())])"
      ]
     },
     "execution_count": 47,
     "metadata": {},
     "output_type": "execute_result"
    }
   ],
   "source": [
    "# Create Neural Network model\n",
    "nn = make_pipeline(StandardScaler(), MLPClassifier()) \n",
    "nn.fit(X_train, y_train)"
   ]
  },
  {
   "cell_type": "code",
   "execution_count": 48,
   "id": "17e53d73-5928-4396-b7a8-98cc6445ebcb",
   "metadata": {},
   "outputs": [],
   "source": [
    "# Evaluate Neural Network\n",
    "pred_train = nn.predict(X_train)\n",
    "pred_test = nn.predict(X_test)"
   ]
  },
  {
   "cell_type": "code",
   "execution_count": 49,
   "id": "02a1814c-09bb-4497-818c-c57428d4b7bf",
   "metadata": {},
   "outputs": [
    {
     "name": "stdout",
     "output_type": "stream",
     "text": [
      "Accuracy score Train: 0.9058\n",
      "Accuracy score Test: 0.7246\n",
      "Precision score Test: 0.5455\n",
      "Recall score Test: 0.8182\n",
      "F1 Score Test: 0.6545\n"
     ]
    }
   ],
   "source": [
    "# Calculate metrics\n",
    "print(\"Accuracy score Train:\", np.round(accuracy_score(pred_train, y_train),4))\n",
    "print(\"Accuracy score Test:\", np.round(accuracy_score(pred_test, y_test),4))\n",
    "\n",
    "print(\"Precision score Test:\", np.round(precision_score(pred_test, y_test), 4))\n",
    "\n",
    "print(\"Recall score Test:\", np.round(recall_score(pred_test, y_test), 4))\n",
    "\n",
    "print(\"F1 Score Test:\", np.round(f1_score(pred_test, y_test),4))"
   ]
  },
  {
   "cell_type": "code",
   "execution_count": 50,
   "id": "8815bf9e-00f4-4e4f-bd23-77f3d373f057",
   "metadata": {},
   "outputs": [
    {
     "name": "stdout",
     "output_type": "stream",
     "text": [
      "[[32  4]\n",
      " [15 18]]\n"
     ]
    },
    {
     "data": {
      "image/png": "[encoded data removed]",
      "text/plain": [
       "<Figure size 432x288 with 2 Axes>"
      ]
     },
     "metadata": {
      "needs_background": "light"
     },
     "output_type": "display_data"
    }
   ],
   "source": [
    "# Display the confusion matrix\n",
    "cf_matrix = confusion_matrix(y_test, pred_test)\n",
    "print(cf_matrix)\n",
    "\n",
    "group_names = ['True Neg','False Pos','False Neg','True Pos']\n",
    "\n",
    "group_counts = [\"{0:0.0f}\".format(value) for value in\n",
    "                cf_matrix.flatten()]\n",
    "\n",
    "group_percentages = [\"{0:.2%}\".format(value) for value in\n",
    "                     cf_matrix.flatten()/np.sum(cf_matrix)]\n",
    "\n",
    "labels = [f\"{v1}\\n{v2}\\n{v3}\" for v1, v2, v3 in\n",
    "          zip(group_names,group_counts,group_percentages)]\n",
    "\n",
    "labels = np.asarray(labels).reshape(2,2)\n",
    "\n",
    "ax = sns.heatmap(cf_matrix, annot=labels, fmt='', cmap='Blues')\n",
    "\n",
    "ax.set_title('Seaborn Confusion Matrix with labels\\n\\n');\n",
    "ax.set_xlabel('\\nPredicted Values')\n",
    "ax.set_ylabel('Actual Values ');\n",
    "\n",
    "# Ticket labels\n",
    "ax.xaxis.set_ticklabels(['False','True'])\n",
    "ax.yaxis.set_ticklabels(['False','True'])\n",
    "\n",
    "# Display the visualization of the Confusion Matrix.\n",
    "plt.show()"
   ]
  },
  {
   "cell_type": "code",
   "execution_count": 51,
   "id": "012402d4-b896-4919-b384-9254afd68128",
   "metadata": {},
   "outputs": [
    {
     "name": "stdout",
     "output_type": "stream",
     "text": [
      "0.7171717171717171\n"
     ]
    },
    {
     "data": {
      "image/png": "[encoded data removed]",
      "text/plain": [
       "<Figure size 432x288 with 1 Axes>"
      ]
     },
     "metadata": {
      "needs_background": "light"
     },
     "output_type": "display_data"
    }
   ],
   "source": [
    "# Calculating the AUC and plotting the ROC curve\n",
    "false_positive_rate , true_positive_rate , thresholds = roc_curve(y_test , pred_test)\n",
    "roc_auc = auc(false_positive_rate , true_positive_rate) \n",
    "print(roc_auc)\n",
    "\n",
    "#Show ROC\n",
    "plt.title('ROC')\n",
    "plt.plot(false_positive_rate ,true_positive_rate ,'b' , label='AUC = %0.2f '% roc_auc) \n",
    "plt.legend(loc='lower right') \n",
    "plt.plot([0 ,1] ,[0 ,1] , 'r') \n",
    "plt.xlim([ -0.1 ,1.2])\n",
    "plt.ylim ([ -0.1 ,1.2])\n",
    "plt.ylabel('True-Positiv Rate')\n",
    "plt.xlabel('False-Positiv Rate')\n",
    "#plt.savefig('roc2.png', dpi=500) \n",
    "plt.show()"
   ]
  },
  {
   "cell_type": "markdown",
   "id": "23545fb7-df62-4883-897d-3896126edf12",
   "metadata": {},
   "source": [
    "### 5.3 XGBoost"
   ]
  },
  {
   "cell_type": "code",
   "execution_count": 52,
   "id": "1bf44abf-6fa2-42eb-979e-1b9276367192",
   "metadata": {},
   "outputs": [
    {
     "name": "stdout",
     "output_type": "stream",
     "text": [
      "[0]\tvalidation_0-error:0.09058\tvalidation_1-error:0.18841\n",
      "[1]\tvalidation_0-error:0.07609\tvalidation_1-error:0.15942\n",
      "[2]\tvalidation_0-error:0.06522\tvalidation_1-error:0.23188\n",
      "[3]\tvalidation_0-error:0.04710\tvalidation_1-error:0.17391\n",
      "[4]\tvalidation_0-error:0.03986\tvalidation_1-error:0.17391\n",
      "[5]\tvalidation_0-error:0.03261\tvalidation_1-error:0.17391\n",
      "[6]\tvalidation_0-error:0.02536\tvalidation_1-error:0.18841\n",
      "[7]\tvalidation_0-error:0.01812\tvalidation_1-error:0.17391\n",
      "[8]\tvalidation_0-error:0.01812\tvalidation_1-error:0.17391\n",
      "[9]\tvalidation_0-error:0.01087\tvalidation_1-error:0.18841\n"
     ]
    }
   ],
   "source": [
    "# Create XGBoost model\n",
    "XGB10 = xgb.XGBClassifier(n_estimators=10)\n",
    "eval_set = [(X_train, y_train), (X_test, y_test)]\n",
    "\n",
    "# Fit the classifier to the training set\n",
    "XGB10.fit(X_train, y_train, eval_metric=[\"error\"], eval_set=eval_set, verbose=True)\n",
    "results = XGB10.evals_result()"
   ]
  },
  {
   "cell_type": "code",
   "execution_count": 53,
   "id": "473f8efb-e5a5-4b15-87ec-a383fb9fab55",
   "metadata": {},
   "outputs": [],
   "source": [
    "# Evaluate XGBoost\n",
    "pred_train = XGB10.predict(X_train)\n",
    "pred_test = XGB10.predict(X_test)"
   ]
  },
  {
   "cell_type": "code",
   "execution_count": 54,
   "id": "767375a9-dd85-4864-b1b1-8ec01ebb5df0",
   "metadata": {},
   "outputs": [
    {
     "name": "stdout",
     "output_type": "stream",
     "text": [
      "Accuracy score Train: 0.9891\n",
      "Accuracy score Test: 0.8116\n",
      "Precision score Test: 0.7576\n",
      "Recall score Test: 0.8333\n",
      "F1 Score Test: 0.7937\n"
     ]
    }
   ],
   "source": [
    "# Calculate metrics\n",
    "print(\"Accuracy score Train:\", np.round(accuracy_score(pred_train, y_train),4))\n",
    "print(\"Accuracy score Test:\", np.round(accuracy_score(pred_test, y_test),4))\n",
    "\n",
    "print(\"Precision score Test:\", np.round(precision_score(pred_test, y_test), 4))\n",
    "\n",
    "print(\"Recall score Test:\", np.round(recall_score(pred_test, y_test), 4))\n",
    "\n",
    "print(\"F1 Score Test:\", np.round(f1_score(pred_test, y_test),4))"
   ]
  },
  {
   "cell_type": "code",
   "execution_count": 55,
   "id": "d22f3cec-f221-4f1c-968b-e81380bf2a17",
   "metadata": {},
   "outputs": [
    {
     "name": "stdout",
     "output_type": "stream",
     "text": [
      "[[31  5]\n",
      " [ 8 25]]\n"
     ]
    },
    {
     "data": {
      "image/png": "[encoded data removed]",
      "text/plain": [
       "<Figure size 432x288 with 2 Axes>"
      ]
     },
     "metadata": {
      "needs_background": "light"
     },
     "output_type": "display_data"
    }
   ],
   "source": [
    "# Display the confusion matrix\n",
    "cf_matrix = confusion_matrix(y_test, pred_test)\n",
    "print(cf_matrix)\n",
    "\n",
    "group_names = ['True Neg','False Pos','False Neg','True Pos']\n",
    "\n",
    "group_counts = [\"{0:0.0f}\".format(value) for value in\n",
    "                cf_matrix.flatten()]\n",
    "\n",
    "group_percentages = [\"{0:.2%}\".format(value) for value in\n",
    "                     cf_matrix.flatten()/np.sum(cf_matrix)]\n",
    "\n",
    "labels = [f\"{v1}\\n{v2}\\n{v3}\" for v1, v2, v3 in\n",
    "          zip(group_names,group_counts,group_percentages)]\n",
    "\n",
    "labels = np.asarray(labels).reshape(2,2)\n",
    "\n",
    "ax = sns.heatmap(cf_matrix, annot=labels, fmt='', cmap='Blues')\n",
    "\n",
    "ax.set_title('Seaborn Confusion Matrix with labels\\n\\n');\n",
    "ax.set_xlabel('\\nPredicted Values')\n",
    "ax.set_ylabel('Actual Values ');\n",
    "\n",
    "# Ticket labels\n",
    "ax.xaxis.set_ticklabels(['False','True'])\n",
    "ax.yaxis.set_ticklabels(['False','True'])\n",
    "\n",
    "# Display the visualization of the Confusion Matrix.\n",
    "plt.show()"
   ]
  },
  {
   "cell_type": "code",
   "execution_count": 56,
   "id": "a1132e17-1eaf-4d14-98e3-4694c5c678ce",
   "metadata": {},
   "outputs": [
    {
     "name": "stdout",
     "output_type": "stream",
     "text": [
      "0.8093434343434345\n"
     ]
    },
    {
     "data": {
      "image/png": "[encoded data removed]",
      "text/plain": [
       "<Figure size 432x288 with 1 Axes>"
      ]
     },
     "metadata": {
      "needs_background": "light"
     },
     "output_type": "display_data"
    }
   ],
   "source": [
    "# Calculating the AUC and plotting the ROC curve\n",
    "false_positive_rate , true_positive_rate , thresholds = roc_curve(y_test , pred_test)\n",
    "roc_auc = auc(false_positive_rate , true_positive_rate) \n",
    "print(roc_auc)\n",
    "\n",
    "#Show ROC\n",
    "plt.title('ROC')\n",
    "plt.plot(false_positive_rate ,true_positive_rate ,'b' , label='AUC = %0.2f '% roc_auc) \n",
    "plt.legend(loc='lower right') \n",
    "plt.plot([0 ,1] ,[0 ,1] , 'r') \n",
    "plt.xlim([ -0.1 ,1.2])\n",
    "plt.ylim ([ -0.1 ,1.2])\n",
    "plt.ylabel('True-Positiv Rate')\n",
    "plt.xlabel('False-Positiv Rate')\n",
    "#plt.savefig('roc2.png', dpi=500) \n",
    "plt.show()"
   ]
  },
  {
   "cell_type": "markdown",
   "id": "98b0cca1-b078-4eee-968e-bd37f62f5283",
   "metadata": {
    "tags": []
   },
   "source": [
    "#### 5.3.1 Feature importance"
   ]
  },
  {
   "cell_type": "code",
   "execution_count": 57,
   "id": "1eb88d41-fa9e-47ef-89f6-4c8a336fa773",
   "metadata": {},
   "outputs": [
    {
     "data": {
      "text/plain": [
       "<AxesSubplot:title={'center':'Feature importance'}, xlabel='F score', ylabel='Features'>"
      ]
     },
     "execution_count": 57,
     "metadata": {},
     "output_type": "execute_result"
    },
    {
     "data": {
      "image/png": "[encoded data removed]",
      "text/plain": [
       "<Figure size 432x288 with 1 Axes>"
      ]
     },
     "metadata": {
      "needs_background": "light"
     },
     "output_type": "display_data"
    }
   ],
   "source": [
    "# Derive feature importance from XGBoost wit 10 boosting rounds\n",
    "xgb.plot_importance(XGB10)"
   ]
  },
  {
   "cell_type": "markdown",
   "id": "c36cc4d3-5184-4a82-992a-f9373497ae82",
   "metadata": {},
   "source": [
    "### 5.4 Pipeline"
   ]
  },
  {
   "cell_type": "code",
   "execution_count": 58,
   "id": "afbaa3b3-db7c-43eb-a121-b89efc89697d",
   "metadata": {},
   "outputs": [],
   "source": [
    "# Name of all the models\n",
    "models = [\n",
    "    ('Random Forest, trees = 100', rf100),\n",
    "    ('Neural Network', nn),\n",
    "    ('XGBoost, boosting rounds = 10', XGB10),]"
   ]
  },
  {
   "cell_type": "code",
   "execution_count": 59,
   "id": "233332ac-7f03-48cb-b3aa-8d0e7f9e4532",
   "metadata": {},
   "outputs": [
    {
     "name": "stdout",
     "output_type": "stream",
     "text": [
      "Model:  Random Forest, trees = 100  | Train:  1.0\n",
      "Model:  Random Forest, trees = 100  | Test:  0.7681159420289855\n",
      "Model:  Random Forest, trees = 100  | Precision:  0.84\n",
      "Model:  Random Forest, trees = 100  | Recall:  0.6363636363636364\n",
      "Model:  Random Forest, trees = 100  | F1:  0.7241379310344828\n",
      "----------------\n",
      "Model:  Neural Network  | Train:  0.9021739130434783\n",
      "Model:  Neural Network  | Test:  0.7391304347826086\n",
      "Model:  Neural Network  | Precision:  0.8260869565217391\n",
      "Model:  Neural Network  | Recall:  0.5757575757575758\n",
      "Model:  Neural Network  | F1:  0.6785714285714286\n",
      "----------------\n",
      "Model:  XGBoost, boosting rounds = 10  | Train:  0.9891304347826086\n",
      "Model:  XGBoost, boosting rounds = 10  | Test:  0.8115942028985508\n",
      "Model:  XGBoost, boosting rounds = 10  | Precision:  0.8333333333333334\n",
      "Model:  XGBoost, boosting rounds = 10  | Recall:  0.7575757575757576\n",
      "Model:  XGBoost, boosting rounds = 10  | F1:  0.7936507936507938\n",
      "----------------\n"
     ]
    }
   ],
   "source": [
    "for name, model in models:\n",
    "    pipelined_model = Pipeline([ \n",
    "                                 (name, model)\n",
    "                            ])\n",
    "    \n",
    "    # Train the model\n",
    "    pipelined_model.fit(X_train, y_train)\n",
    "\n",
    "    # Predict the model\n",
    "    y_hat = pipelined_model.predict(X_test)\n",
    "\n",
    "    # Calculate metrics\n",
    "    Precision = precision_score(y_test, y_hat)\n",
    "    Recall = recall_score(y_test, y_hat)\n",
    "    F1 = f1_score(y_test, y_hat)\n",
    "    train = pipelined_model.score(X_train, y_train)\n",
    "    test = pipelined_model.score(X_test, y_test)\n",
    "    print('Model: ', name, ' | Train: ', train)\n",
    "    print('Model: ', name, ' | Test: ', test)\n",
    "    print('Model: ', name, ' | Precision: ', Precision)\n",
    "    print('Model: ', name, ' | Recall: ', Recall)\n",
    "    print('Model: ', name, ' | F1: ', F1)\n",
    "    print('----------------')"
   ]
  },
  {
   "cell_type": "code",
   "execution_count": null,
   "id": "1647d803-67c2-4bb7-a624-2e066081cfd9",
   "metadata": {},
   "outputs": [],
   "source": []
  }
 ],
 "metadata": {
  "kernelspec": {
   "display_name": "Python 3 (ipykernel)",
   "language": "python",
   "name": "python3"
  },
  "language_info": {
   "codemirror_mode": {
    "name": "ipython",
    "version": 3
   },
   "file_extension": ".py",
   "mimetype": "text/x-python",
   "name": "python",
   "nbconvert_exporter": "python",
   "pygments_lexer": "ipython3",
   "version": "3.9.7"
  }
 },
 "nbformat": 4,
 "nbformat_minor": 5
}
