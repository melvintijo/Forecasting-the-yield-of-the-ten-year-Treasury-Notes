{
 "cells": [
  {
   "cell_type": "markdown",
   "id": "392a7064-4044-4ce6-80ec-c18c9d436fd1",
   "metadata": {
    "tags": []
   },
   "source": [
    "# Forecast of 10 Year Treasury Notes (2002-2021)"
   ]
  },
  {
   "cell_type": "markdown",
   "id": "f67b4c28-f40c-4417-8e02-a102595ac0e7",
   "metadata": {},
   "source": [
    "#### <font color='darkblue'>__1. Data and libaries import__</font> [(→ Link)](#data_import)\n",
    "#### <font color='darkblue'>__2. Prediction with Regression models filter method__</font> [(→ Link)](#regression_fm)\n",
    "##### <font color='black'>2.1 Create Train & Test set\n",
    "##### <font color='black'>2.2 Decision Tree\n",
    "2.2.1 Feature Importance<br>\n",
    "##### <font color='black'>2.3 Random Forest\n",
    "2.3.1 Feature Importance<br>\n",
    "##### <font color='black'>2.4 Pipeline\n",
    "#### <font color='darkblue'>__3. Prediction with Regression model all features__</font> [(→ Link)](#regression_all)\n",
    "##### <font color='black'>3.1 Create Train & Test set\n",
    "##### <font color='black'>3.2 XGBoost\n",
    "3.2.1 Feature Importance<br>\n",
    "##### <font color='black'>3.3 Pipeline\n",
    "<br>"
   ]
  },
  {
   "cell_type": "markdown",
   "id": "ff4570ba-02bb-43a9-bab5-7deabb3ebf78",
   "metadata": {},
   "source": [
    "## <a id='data_import'></a>\n",
    "## 1. Data and libaries import"
   ]
  },
  {
   "cell_type": "code",
   "execution_count": 1,
   "id": "df296ab0-6c14-4004-b64d-30e751870e9b",
   "metadata": {
    "tags": []
   },
   "outputs": [],
   "source": [
    "# Loading libraries\n",
    "import pandas as pd\n",
    "import statsmodels.api as sm\n",
    "import numpy as np\n",
    "import matplotlib.pyplot as plt\n",
    "import seaborn as sns\n",
    "import pmdarima as pm\n",
    "import warnings  \n",
    "import pydotplus\n",
    "import pydot\n",
    "import xgboost as xgb\n",
    "from sklearn.pipeline import FeatureUnion, Pipeline\n",
    "from sklearn.tree import DecisionTreeRegressor\n",
    "from sklearn.model_selection import train_test_split\n",
    "from sklearn.metrics import *\n",
    "from sklearn.model_selection import cross_val_score\n",
    "from sklearn import tree\n",
    "from sklearn.linear_model import LogisticRegression\n",
    "from sklearn.ensemble import RandomForestRegressor\n",
    "from sklearn.tree import DecisionTreeRegressor\n",
    "from sklearn.model_selection import train_test_split\n",
    "from sklearn.linear_model import LinearRegression\n",
    "from sklearn.feature_selection import RFE\n",
    "from sklearn.linear_model import RidgeCV, LassoCV, Ridge, Lasso\n",
    "from sklearn.neural_network import MLPClassifier\n",
    "from sklearn.tree import export_graphviz\n",
    "from sklearn.model_selection import train_test_split\n",
    "from sklearn.preprocessing import MinMaxScaler, StandardScaler\n",
    "from sklearn.pipeline import make_pipeline\n",
    "from sklearn.pipeline import Pipeline\n",
    "from sklearn.model_selection import GridSearchCV\n",
    "from sklearn.ensemble import RandomForestClassifier\n",
    "from sklearn.model_selection import GridSearchCV\n",
    "from sklearn.linear_model import ElasticNetCV\n",
    "from matplotlib import rcParams\n",
    "from matplotlib import pyplot\n",
    "from functools import reduce\n",
    "from IPython.display import Image  \n",
    "from xgboost import XGBClassifier\n",
    "warnings.filterwarnings('ignore')\n",
    "plt.style.use('seaborn-whitegrid')\n",
    "%matplotlib inline"
   ]
  },
  {
   "cell_type": "code",
   "execution_count": 2,
   "id": "30d2a614-70d3-4007-9768-924d2e5b5901",
   "metadata": {},
   "outputs": [
    {
     "data": {
      "text/html": [
       "<div>\n",
       "<style scoped>\n",
       "    .dataframe tbody tr th:only-of-type {\n",
       "        vertical-align: middle;\n",
       "    }\n",
       "\n",
       "    .dataframe tbody tr th {\n",
       "        vertical-align: top;\n",
       "    }\n",
       "\n",
       "    .dataframe thead th {\n",
       "        text-align: right;\n",
       "    }\n",
       "</style>\n",
       "<table border=\"1\" class=\"dataframe\">\n",
       "  <thead>\n",
       "    <tr style=\"text-align: right;\">\n",
       "      <th></th>\n",
       "      <th>Yield of the ten-year Treasury Notes</th>\n",
       "      <th>Real Risk Premium</th>\n",
       "      <th>Inflation Risk Premium</th>\n",
       "      <th>National Activity Index</th>\n",
       "      <th>Consumer Sentiment</th>\n",
       "      <th>Labor Force Participation</th>\n",
       "      <th>Unemploymentrate</th>\n",
       "      <th>Borrowings from FED</th>\n",
       "      <th>Reserves Depository Institutions</th>\n",
       "      <th>M2</th>\n",
       "      <th>...</th>\n",
       "      <th>10-Year Expected Inflation</th>\n",
       "      <th>Velocity of M2</th>\n",
       "      <th>GDP</th>\n",
       "      <th>Real GDP</th>\n",
       "      <th>Federal Debt</th>\n",
       "      <th>quarterly_mean</th>\n",
       "      <th>half_year_mean</th>\n",
       "      <th>annual_mean</th>\n",
       "      <th>annual_quarterly_mean</th>\n",
       "      <th>annual_half_mean</th>\n",
       "    </tr>\n",
       "    <tr>\n",
       "      <th>Date</th>\n",
       "      <th></th>\n",
       "      <th></th>\n",
       "      <th></th>\n",
       "      <th></th>\n",
       "      <th></th>\n",
       "      <th></th>\n",
       "      <th></th>\n",
       "      <th></th>\n",
       "      <th></th>\n",
       "      <th></th>\n",
       "      <th></th>\n",
       "      <th></th>\n",
       "      <th></th>\n",
       "      <th></th>\n",
       "      <th></th>\n",
       "      <th></th>\n",
       "      <th></th>\n",
       "      <th></th>\n",
       "      <th></th>\n",
       "      <th></th>\n",
       "      <th></th>\n",
       "    </tr>\n",
       "  </thead>\n",
       "  <tbody>\n",
       "    <tr>\n",
       "      <th>2002-12-01</th>\n",
       "      <td>4.03</td>\n",
       "      <td>1.264753</td>\n",
       "      <td>0.460523</td>\n",
       "      <td>-0.59</td>\n",
       "      <td>86.7</td>\n",
       "      <td>66.3</td>\n",
       "      <td>6.0</td>\n",
       "      <td>0.0797</td>\n",
       "      <td>40.3</td>\n",
       "      <td>5772.0</td>\n",
       "      <td>...</td>\n",
       "      <td>2.327409</td>\n",
       "      <td>1.919000</td>\n",
       "      <td>3.666667</td>\n",
       "      <td>13596.096333</td>\n",
       "      <td>6.442420e+06</td>\n",
       "      <td>0.985732</td>\n",
       "      <td>1.025641</td>\n",
       "      <td>1.144127</td>\n",
       "      <td>1.160688</td>\n",
       "      <td>1.115524</td>\n",
       "    </tr>\n",
       "    <tr>\n",
       "      <th>2003-01-01</th>\n",
       "      <td>4.05</td>\n",
       "      <td>1.196914</td>\n",
       "      <td>0.386633</td>\n",
       "      <td>0.35</td>\n",
       "      <td>82.4</td>\n",
       "      <td>66.4</td>\n",
       "      <td>5.8</td>\n",
       "      <td>0.0269</td>\n",
       "      <td>42.9</td>\n",
       "      <td>5804.6</td>\n",
       "      <td>...</td>\n",
       "      <td>2.243939</td>\n",
       "      <td>1.915000</td>\n",
       "      <td>4.100000</td>\n",
       "      <td>13619.434000</td>\n",
       "      <td>6.460776e+06</td>\n",
       "      <td>0.991975</td>\n",
       "      <td>0.995885</td>\n",
       "      <td>1.118107</td>\n",
       "      <td>1.127152</td>\n",
       "      <td>1.122727</td>\n",
       "    </tr>\n",
       "    <tr>\n",
       "      <th>2003-02-01</th>\n",
       "      <td>3.90</td>\n",
       "      <td>1.177252</td>\n",
       "      <td>0.373463</td>\n",
       "      <td>-0.46</td>\n",
       "      <td>79.9</td>\n",
       "      <td>66.4</td>\n",
       "      <td>5.9</td>\n",
       "      <td>0.0252</td>\n",
       "      <td>41.9</td>\n",
       "      <td>5840.7</td>\n",
       "      <td>...</td>\n",
       "      <td>2.245564</td>\n",
       "      <td>1.910333</td>\n",
       "      <td>4.433333</td>\n",
       "      <td>13659.991667</td>\n",
       "      <td>6.530558e+06</td>\n",
       "      <td>1.027564</td>\n",
       "      <td>1.018803</td>\n",
       "      <td>1.139530</td>\n",
       "      <td>1.108962</td>\n",
       "      <td>1.118498</td>\n",
       "    </tr>\n",
       "    <tr>\n",
       "      <th>2003-03-01</th>\n",
       "      <td>3.81</td>\n",
       "      <td>1.151881</td>\n",
       "      <td>0.369566</td>\n",
       "      <td>-0.19</td>\n",
       "      <td>77.6</td>\n",
       "      <td>66.3</td>\n",
       "      <td>5.9</td>\n",
       "      <td>0.0217</td>\n",
       "      <td>40.6</td>\n",
       "      <td>5861.4</td>\n",
       "      <td>...</td>\n",
       "      <td>2.078386</td>\n",
       "      <td>1.905667</td>\n",
       "      <td>4.766667</td>\n",
       "      <td>13700.549333</td>\n",
       "      <td>6.600339e+06</td>\n",
       "      <td>1.036089</td>\n",
       "      <td>1.040245</td>\n",
       "      <td>1.134296</td>\n",
       "      <td>1.094786</td>\n",
       "      <td>1.090412</td>\n",
       "    </tr>\n",
       "    <tr>\n",
       "      <th>2003-04-01</th>\n",
       "      <td>3.96</td>\n",
       "      <td>1.192092</td>\n",
       "      <td>0.385485</td>\n",
       "      <td>-0.65</td>\n",
       "      <td>86.0</td>\n",
       "      <td>66.4</td>\n",
       "      <td>6.0</td>\n",
       "      <td>0.0294</td>\n",
       "      <td>41.2</td>\n",
       "      <td>5898.8</td>\n",
       "      <td>...</td>\n",
       "      <td>2.116690</td>\n",
       "      <td>1.901000</td>\n",
       "      <td>5.100000</td>\n",
       "      <td>13741.107000</td>\n",
       "      <td>6.670121e+06</td>\n",
       "      <td>0.992424</td>\n",
       "      <td>1.001684</td>\n",
       "      <td>1.065025</td>\n",
       "      <td>1.073155</td>\n",
       "      <td>1.063235</td>\n",
       "    </tr>\n",
       "    <tr>\n",
       "      <th>...</th>\n",
       "      <td>...</td>\n",
       "      <td>...</td>\n",
       "      <td>...</td>\n",
       "      <td>...</td>\n",
       "      <td>...</td>\n",
       "      <td>...</td>\n",
       "      <td>...</td>\n",
       "      <td>...</td>\n",
       "      <td>...</td>\n",
       "      <td>...</td>\n",
       "      <td>...</td>\n",
       "      <td>...</td>\n",
       "      <td>...</td>\n",
       "      <td>...</td>\n",
       "      <td>...</td>\n",
       "      <td>...</td>\n",
       "      <td>...</td>\n",
       "      <td>...</td>\n",
       "      <td>...</td>\n",
       "      <td>...</td>\n",
       "      <td>...</td>\n",
       "    </tr>\n",
       "    <tr>\n",
       "      <th>2021-06-01</th>\n",
       "      <td>1.52</td>\n",
       "      <td>1.146639</td>\n",
       "      <td>0.334032</td>\n",
       "      <td>0.20</td>\n",
       "      <td>85.5</td>\n",
       "      <td>61.6</td>\n",
       "      <td>5.9</td>\n",
       "      <td>87.7460</td>\n",
       "      <td>3848.1</td>\n",
       "      <td>20458.9</td>\n",
       "      <td>...</td>\n",
       "      <td>1.596289</td>\n",
       "      <td>1.115667</td>\n",
       "      <td>10.066667</td>\n",
       "      <td>19442.032000</td>\n",
       "      <td>2.846242e+07</td>\n",
       "      <td>1.050987</td>\n",
       "      <td>0.957237</td>\n",
       "      <td>0.727522</td>\n",
       "      <td>0.692227</td>\n",
       "      <td>0.760023</td>\n",
       "    </tr>\n",
       "    <tr>\n",
       "      <th>2021-07-01</th>\n",
       "      <td>1.32</td>\n",
       "      <td>1.156082</td>\n",
       "      <td>0.353131</td>\n",
       "      <td>0.72</td>\n",
       "      <td>81.2</td>\n",
       "      <td>61.7</td>\n",
       "      <td>5.4</td>\n",
       "      <td>87.6211</td>\n",
       "      <td>3943.9</td>\n",
       "      <td>20620.0</td>\n",
       "      <td>...</td>\n",
       "      <td>1.624811</td>\n",
       "      <td>1.114000</td>\n",
       "      <td>8.400000</td>\n",
       "      <td>19478.893000</td>\n",
       "      <td>2.842892e+07</td>\n",
       "      <td>1.155303</td>\n",
       "      <td>1.132576</td>\n",
       "      <td>0.881944</td>\n",
       "      <td>0.763388</td>\n",
       "      <td>0.778707</td>\n",
       "    </tr>\n",
       "    <tr>\n",
       "      <th>2021-08-01</th>\n",
       "      <td>1.28</td>\n",
       "      <td>1.106154</td>\n",
       "      <td>0.386107</td>\n",
       "      <td>0.03</td>\n",
       "      <td>70.3</td>\n",
       "      <td>61.7</td>\n",
       "      <td>5.2</td>\n",
       "      <td>80.7667</td>\n",
       "      <td>4140.1</td>\n",
       "      <td>20852.3</td>\n",
       "      <td>...</td>\n",
       "      <td>1.580163</td>\n",
       "      <td>1.118000</td>\n",
       "      <td>10.433333</td>\n",
       "      <td>19588.025333</td>\n",
       "      <td>2.882502e+07</td>\n",
       "      <td>1.121094</td>\n",
       "      <td>1.170573</td>\n",
       "      <td>0.950521</td>\n",
       "      <td>0.847851</td>\n",
       "      <td>0.812013</td>\n",
       "    </tr>\n",
       "    <tr>\n",
       "      <th>2021-09-01</th>\n",
       "      <td>1.37</td>\n",
       "      <td>1.151900</td>\n",
       "      <td>0.391759</td>\n",
       "      <td>-0.06</td>\n",
       "      <td>72.8</td>\n",
       "      <td>61.7</td>\n",
       "      <td>4.7</td>\n",
       "      <td>68.5677</td>\n",
       "      <td>4193.2</td>\n",
       "      <td>20991.3</td>\n",
       "      <td>...</td>\n",
       "      <td>1.642786</td>\n",
       "      <td>1.122000</td>\n",
       "      <td>12.466667</td>\n",
       "      <td>19697.157667</td>\n",
       "      <td>2.922112e+07</td>\n",
       "      <td>1.001825</td>\n",
       "      <td>1.064477</td>\n",
       "      <td>0.930049</td>\n",
       "      <td>0.928355</td>\n",
       "      <td>0.873714</td>\n",
       "    </tr>\n",
       "    <tr>\n",
       "      <th>2021-10-01</th>\n",
       "      <td>1.58</td>\n",
       "      <td>1.164060</td>\n",
       "      <td>0.388468</td>\n",
       "      <td>0.81</td>\n",
       "      <td>71.7</td>\n",
       "      <td>61.7</td>\n",
       "      <td>4.6</td>\n",
       "      <td>54.5588</td>\n",
       "      <td>4128.1</td>\n",
       "      <td>21142.0</td>\n",
       "      <td>...</td>\n",
       "      <td>1.612740</td>\n",
       "      <td>1.126000</td>\n",
       "      <td>14.500000</td>\n",
       "      <td>19806.290000</td>\n",
       "      <td>2.961722e+07</td>\n",
       "      <td>0.878165</td>\n",
       "      <td>0.916667</td>\n",
       "      <td>0.848101</td>\n",
       "      <td>0.965766</td>\n",
       "      <td>0.925201</td>\n",
       "    </tr>\n",
       "  </tbody>\n",
       "</table>\n",
       "<p>227 rows × 29 columns</p>\n",
       "</div>"
      ],
      "text/plain": [
       "            Yield of the ten-year Treasury Notes  Real Risk Premium  \\\n",
       "Date                                                                  \n",
       "2002-12-01                                  4.03           1.264753   \n",
       "2003-01-01                                  4.05           1.196914   \n",
       "2003-02-01                                  3.90           1.177252   \n",
       "2003-03-01                                  3.81           1.151881   \n",
       "2003-04-01                                  3.96           1.192092   \n",
       "...                                          ...                ...   \n",
       "2021-06-01                                  1.52           1.146639   \n",
       "2021-07-01                                  1.32           1.156082   \n",
       "2021-08-01                                  1.28           1.106154   \n",
       "2021-09-01                                  1.37           1.151900   \n",
       "2021-10-01                                  1.58           1.164060   \n",
       "\n",
       "            Inflation Risk Premium  National Activity Index  \\\n",
       "Date                                                          \n",
       "2002-12-01                0.460523                    -0.59   \n",
       "2003-01-01                0.386633                     0.35   \n",
       "2003-02-01                0.373463                    -0.46   \n",
       "2003-03-01                0.369566                    -0.19   \n",
       "2003-04-01                0.385485                    -0.65   \n",
       "...                            ...                      ...   \n",
       "2021-06-01                0.334032                     0.20   \n",
       "2021-07-01                0.353131                     0.72   \n",
       "2021-08-01                0.386107                     0.03   \n",
       "2021-09-01                0.391759                    -0.06   \n",
       "2021-10-01                0.388468                     0.81   \n",
       "\n",
       "            Consumer Sentiment  Labor Force Participation  Unemploymentrate  \\\n",
       "Date                                                                          \n",
       "2002-12-01                86.7                       66.3               6.0   \n",
       "2003-01-01                82.4                       66.4               5.8   \n",
       "2003-02-01                79.9                       66.4               5.9   \n",
       "2003-03-01                77.6                       66.3               5.9   \n",
       "2003-04-01                86.0                       66.4               6.0   \n",
       "...                        ...                        ...               ...   \n",
       "2021-06-01                85.5                       61.6               5.9   \n",
       "2021-07-01                81.2                       61.7               5.4   \n",
       "2021-08-01                70.3                       61.7               5.2   \n",
       "2021-09-01                72.8                       61.7               4.7   \n",
       "2021-10-01                71.7                       61.7               4.6   \n",
       "\n",
       "            Borrowings from FED  Reserves Depository Institutions       M2  \\\n",
       "Date                                                                         \n",
       "2002-12-01               0.0797                              40.3   5772.0   \n",
       "2003-01-01               0.0269                              42.9   5804.6   \n",
       "2003-02-01               0.0252                              41.9   5840.7   \n",
       "2003-03-01               0.0217                              40.6   5861.4   \n",
       "2003-04-01               0.0294                              41.2   5898.8   \n",
       "...                         ...                               ...      ...   \n",
       "2021-06-01              87.7460                            3848.1  20458.9   \n",
       "2021-07-01              87.6211                            3943.9  20620.0   \n",
       "2021-08-01              80.7667                            4140.1  20852.3   \n",
       "2021-09-01              68.5677                            4193.2  20991.3   \n",
       "2021-10-01              54.5588                            4128.1  21142.0   \n",
       "\n",
       "            ...  10-Year Expected Inflation  Velocity of M2        GDP  \\\n",
       "Date        ...                                                          \n",
       "2002-12-01  ...                    2.327409        1.919000   3.666667   \n",
       "2003-01-01  ...                    2.243939        1.915000   4.100000   \n",
       "2003-02-01  ...                    2.245564        1.910333   4.433333   \n",
       "2003-03-01  ...                    2.078386        1.905667   4.766667   \n",
       "2003-04-01  ...                    2.116690        1.901000   5.100000   \n",
       "...         ...                         ...             ...        ...   \n",
       "2021-06-01  ...                    1.596289        1.115667  10.066667   \n",
       "2021-07-01  ...                    1.624811        1.114000   8.400000   \n",
       "2021-08-01  ...                    1.580163        1.118000  10.433333   \n",
       "2021-09-01  ...                    1.642786        1.122000  12.466667   \n",
       "2021-10-01  ...                    1.612740        1.126000  14.500000   \n",
       "\n",
       "                Real GDP  Federal Debt  quarterly_mean  half_year_mean  \\\n",
       "Date                                                                     \n",
       "2002-12-01  13596.096333  6.442420e+06        0.985732        1.025641   \n",
       "2003-01-01  13619.434000  6.460776e+06        0.991975        0.995885   \n",
       "2003-02-01  13659.991667  6.530558e+06        1.027564        1.018803   \n",
       "2003-03-01  13700.549333  6.600339e+06        1.036089        1.040245   \n",
       "2003-04-01  13741.107000  6.670121e+06        0.992424        1.001684   \n",
       "...                  ...           ...             ...             ...   \n",
       "2021-06-01  19442.032000  2.846242e+07        1.050987        0.957237   \n",
       "2021-07-01  19478.893000  2.842892e+07        1.155303        1.132576   \n",
       "2021-08-01  19588.025333  2.882502e+07        1.121094        1.170573   \n",
       "2021-09-01  19697.157667  2.922112e+07        1.001825        1.064477   \n",
       "2021-10-01  19806.290000  2.961722e+07        0.878165        0.916667   \n",
       "\n",
       "            annual_mean  annual_quarterly_mean  annual_half_mean  \n",
       "Date                                                              \n",
       "2002-12-01     1.144127               1.160688          1.115524  \n",
       "2003-01-01     1.118107               1.127152          1.122727  \n",
       "2003-02-01     1.139530               1.108962          1.118498  \n",
       "2003-03-01     1.134296               1.094786          1.090412  \n",
       "2003-04-01     1.065025               1.073155          1.063235  \n",
       "...                 ...                    ...               ...  \n",
       "2021-06-01     0.727522               0.692227          0.760023  \n",
       "2021-07-01     0.881944               0.763388          0.778707  \n",
       "2021-08-01     0.950521               0.847851          0.812013  \n",
       "2021-09-01     0.930049               0.928355          0.873714  \n",
       "2021-10-01     0.848101               0.965766          0.925201  \n",
       "\n",
       "[227 rows x 29 columns]"
      ]
     },
     "execution_count": 2,
     "metadata": {},
     "output_type": "execute_result"
    }
   ],
   "source": [
    "# Import data and create dataframe\n",
    "df_forecast = pd.read_excel('Prediction_Data_2002-2021.xlsx', index_col=0)\n",
    "df_forecast"
   ]
  },
  {
   "cell_type": "markdown",
   "id": "79da9360-4792-4893-ad74-ee584f6dbb47",
   "metadata": {},
   "source": [
    "## <a id='regression_fm'></a>\n",
    "## 2. Prediction with Regression models filter method"
   ]
  },
  {
   "cell_type": "markdown",
   "id": "9f399976-1aeb-4172-8d73-d7004267be12",
   "metadata": {},
   "source": [
    "### 2.1 Create Train & Test set"
   ]
  },
  {
   "cell_type": "code",
   "execution_count": 3,
   "id": "ba31fb0e-79dd-4c0f-a722-8f164811f33e",
   "metadata": {},
   "outputs": [],
   "source": [
    "# Shift yield forward one month\n",
    "pred = df_forecast['Yield of the ten-year Treasury Notes'].shift(1)\n",
    "df_forecast = df_forecast.iloc[1: , :]"
   ]
  },
  {
   "cell_type": "code",
   "execution_count": 4,
   "id": "c80c2b89-2cd3-4587-a119-a7fe12ee5dcc",
   "metadata": {},
   "outputs": [],
   "source": [
    "y = df_forecast['Yield of the ten-year Treasury Notes']\n",
    "X = df_forecast[['Real Risk Premium',\n",
    "                 'Labor Force Participation',\n",
    "                 'Reserves Depository Institutions',  \n",
    "                 'M2',\n",
    "                 '10-Year Real Interest',\n",
    "                 '1-Year Expected Inflation', \n",
    "                 '2-Year Expected Inflation', \n",
    "                 '3-Year Expected Inflation', \n",
    "                 '4-Year Expected Inflation',\n",
    "                 '5-Year Expected Inflation',\n",
    "                 '10-Year Expected Inflation',\n",
    "                 'Velocity of M2',\n",
    "                 'Federal Debt',\n",
    "                 'Real GDP']]"
   ]
  },
  {
   "cell_type": "code",
   "execution_count": 5,
   "id": "00352b4f-0ad5-49da-8f8d-97d9fc548dc2",
   "metadata": {},
   "outputs": [],
   "source": [
    "X_train, X_test, y_train, y_test = train_test_split(X, y, test_size=0.20, shuffle=False)"
   ]
  },
  {
   "cell_type": "code",
   "execution_count": 6,
   "id": "1d004ce6-375b-438c-896c-bb83d5fd78a3",
   "metadata": {},
   "outputs": [
    {
     "name": "stdout",
     "output_type": "stream",
     "text": [
      "Number of training data: 180\n",
      "Number of test data: 46\n"
     ]
    }
   ],
   "source": [
    "print('Number of training data:', len(X_train))\n",
    "print('Number of test data:', len(X_test))"
   ]
  },
  {
   "cell_type": "markdown",
   "id": "3f3673c7-c5ed-42dd-92ff-f82d297c8fcd",
   "metadata": {},
   "source": [
    "### 2.2 Decision Tree"
   ]
  },
  {
   "cell_type": "code",
   "execution_count": 7,
   "id": "c0934135-f111-45b5-b6c4-6a121d014ec9",
   "metadata": {},
   "outputs": [],
   "source": [
    "# Create Decision Tree model\n",
    "reg_tree10 = DecisionTreeRegressor(max_depth=10)\n",
    "\n",
    "# Train Decision Tree Classifer\n",
    "reg_tree10 = reg_tree10.fit(X_train, y_train)"
   ]
  },
  {
   "cell_type": "code",
   "execution_count": 8,
   "id": "292ad12b-1c82-4542-8644-d2ab335dddd8",
   "metadata": {},
   "outputs": [
    {
     "name": "stdout",
     "output_type": "stream",
     "text": [
      "Training Set Score R^2: 1.00\n",
      "Test Set Score R^2: 0.47\n"
     ]
    }
   ],
   "source": [
    "print (\"Training Set Score R^2: {:.2f}\".format(reg_tree10.score(X_train, y_train)))\n",
    "print (\"Test Set Score R^2: {:.2f}\".format(reg_tree10.score(X_test, y_test)))"
   ]
  },
  {
   "cell_type": "markdown",
   "id": "82ba98e1-c627-4d4d-811e-35195b8436eb",
   "metadata": {},
   "source": [
    "#### 2.2.1 Feature importance"
   ]
  },
  {
   "cell_type": "code",
   "execution_count": 9,
   "id": "1afdc3a6-5866-4ca3-8715-c7f74b8b68af",
   "metadata": {},
   "outputs": [],
   "source": [
    "cols = X_train.columns"
   ]
  },
  {
   "cell_type": "code",
   "execution_count": 10,
   "id": "9baaa419-079d-407f-949d-92d08c1fcd55",
   "metadata": {},
   "outputs": [
    {
     "data": {
      "text/plain": [
       "<AxesSubplot:ylabel='features'>"
      ]
     },
     "execution_count": 10,
     "metadata": {},
     "output_type": "execute_result"
    },
    {
     "data": {
      "image/png": "[encoded data removed]",
      "text/plain": [
       "<Figure size 1080x360 with 1 Axes>"
      ]
     },
     "metadata": {
      "needs_background": "light"
     },
     "output_type": "display_data"
    }
   ],
   "source": [
    "# Derive feature importance from Decision Tree with max_depth 10\n",
    "importances = reg_tree10.feature_importances_\n",
    "indices     = np.argsort(importances)[::-1]\n",
    "\n",
    "# Barplot with feature importance\n",
    "df = pd.DataFrame({'features':cols,'importances': importances})\n",
    "df.sort_values('importances', inplace=True)\n",
    "df.plot(kind='barh', y='importances', x='features', color='r', figsize=(15,5))"
   ]
  },
  {
   "cell_type": "markdown",
   "id": "6e696e2a-54ce-4949-8eb9-b3dc8a6217af",
   "metadata": {},
   "source": [
    "### 2.3 Random Forest"
   ]
  },
  {
   "cell_type": "code",
   "execution_count": 11,
   "id": "fa8fb3a7-0dd3-4929-a7ea-4d3cb30a8ace",
   "metadata": {},
   "outputs": [
    {
     "data": {
      "text/plain": [
       "RandomForestRegressor(n_estimators=1000)"
      ]
     },
     "execution_count": 11,
     "metadata": {},
     "output_type": "execute_result"
    }
   ],
   "source": [
    "# Create Random Forest model\n",
    "rf1000 = RandomForestRegressor(n_estimators=1000)\n",
    "rf1000.fit(X_train,y_train)"
   ]
  },
  {
   "cell_type": "code",
   "execution_count": 12,
   "id": "86bd6c7f-5c23-453c-b0cc-0c377cc2d919",
   "metadata": {},
   "outputs": [
    {
     "name": "stdout",
     "output_type": "stream",
     "text": [
      "Training Set Score R^2: 1.00\n",
      "Test Set Score R^2: 0.49\n"
     ]
    }
   ],
   "source": [
    "print (\"Training Set Score R^2: {:.2f}\".format(rf1000.score(X_train, y_train)))\n",
    "print (\"Test Set Score R^2: {:.2f}\".format(rf1000.score(X_test, y_test)))"
   ]
  },
  {
   "cell_type": "markdown",
   "id": "93a46d39-7811-4843-949f-f97874796e9a",
   "metadata": {
    "tags": []
   },
   "source": [
    "#### 2.3.1 Feature importance"
   ]
  },
  {
   "cell_type": "code",
   "execution_count": 13,
   "id": "02eade5e-4831-4439-ae6a-530d173f01e6",
   "metadata": {},
   "outputs": [],
   "source": [
    "cols = X_train.columns"
   ]
  },
  {
   "cell_type": "code",
   "execution_count": 14,
   "id": "ee833600-0fdf-4c5d-a3ce-ea6a0d7b7769",
   "metadata": {},
   "outputs": [
    {
     "data": {
      "text/plain": [
       "<AxesSubplot:ylabel='features'>"
      ]
     },
     "execution_count": 14,
     "metadata": {},
     "output_type": "execute_result"
    },
    {
     "data": {
      "image/png": "[encoded data removed]",
      "text/plain": [
       "<Figure size 1080x360 with 1 Axes>"
      ]
     },
     "metadata": {
      "needs_background": "light"
     },
     "output_type": "display_data"
    }
   ],
   "source": [
    "# Derive feature importance from Random Forest wit 1000 trees\n",
    "importances = rf1000.feature_importances_\n",
    "std         = np.std([tree.feature_importances_ for tree in rf1000.estimators_], axis=0)\n",
    "indices     = np.argsort(importances)[::-1]\n",
    "\n",
    "\n",
    "# Barplot with feature importance\n",
    "df = pd.DataFrame({'features':cols,'importances': importances})\n",
    "df.sort_values('importances', inplace=True)\n",
    "df.plot(kind='barh', y='importances', x='features', color='r', figsize=(15,5))"
   ]
  },
  {
   "cell_type": "markdown",
   "id": "ef4e21b6-f6c2-4612-9cd2-aca135e52444",
   "metadata": {},
   "source": [
    "### 2.4 Pipeline"
   ]
  },
  {
   "cell_type": "code",
   "execution_count": 15,
   "id": "281d2e5d-665f-43c5-9a0d-cd941eb9b6fa",
   "metadata": {},
   "outputs": [],
   "source": [
    "# Name of all the models\n",
    "models = [\n",
    "    ('Deicison Tree, max_dept10', reg_tree10),\n",
    "    ('Random Forest, trees=1000', rf1000),]"
   ]
  },
  {
   "cell_type": "code",
   "execution_count": 16,
   "id": "fc6507c8-16d7-44b7-8123-2a6ef1a63631",
   "metadata": {},
   "outputs": [
    {
     "name": "stdout",
     "output_type": "stream",
     "text": [
      "Model:  Deicison Tree, max_dept10  | R2 Train:  0.9999828752156509\n",
      "Model:  Deicison Tree, max_dept10  | R2 Test:  0.4593266371042707\n",
      "Model:  Deicison Tree, max_dept10  | MAE:  0.5245652173913044\n",
      "Model:  Deicison Tree, max_dept10  | MSE:  0.3659228260869565\n",
      "Model:  Deicison Tree, max_dept10  | RMSE:  0.6049155528558978\n",
      "Model:  Deicison Tree, max_dept10  | MAPE:  0.3929218759088205\n",
      "----------------\n",
      "Model:  Random Forest, trees=1000  | R2 Train:  0.9961510355394431\n",
      "Model:  Random Forest, trees=1000  | R2 Test:  0.4889197495036567\n",
      "Model:  Random Forest, trees=1000  | MAE:  0.48963608695652566\n",
      "Model:  Random Forest, trees=1000  | MSE:  0.34589447613478647\n",
      "Model:  Random Forest, trees=1000  | RMSE:  0.5881279419775823\n",
      "Model:  Random Forest, trees=1000  | MAPE:  0.4334569426846663\n",
      "----------------\n"
     ]
    }
   ],
   "source": [
    "for name, model in models:\n",
    "    pipelined_model = Pipeline([ \n",
    "                                 (name, model)\n",
    "                            ])\n",
    "    \n",
    "    # Train the model\n",
    "    pipelined_model.fit(X_train, y_train)\n",
    "\n",
    "    # Predict the model\n",
    "    y_hat = pipelined_model.predict(X_test)\n",
    "\n",
    "    # Calculate metrics\n",
    "    MAE = mean_absolute_error(y_test, y_hat)\n",
    "    MSE = mean_squared_error(y_test, y_hat, squared=True)\n",
    "    RMSE = mean_squared_error(y_test, y_hat, squared=False)\n",
    "    MAPE = mean_absolute_percentage_error(y_test, y_hat)\n",
    "    R2_train = pipelined_model.score(X_train, y_train)\n",
    "    R2_test = r2_score(y_test, y_hat)\n",
    "    print('Model: ', name, ' | R2 Train: ', R2_train)\n",
    "    print('Model: ', name, ' | R2 Test: ', R2_test)\n",
    "    print('Model: ', name, ' | MAE: ', MAE)\n",
    "    print('Model: ', name, ' | MSE: ', MSE)\n",
    "    print('Model: ', name, ' | RMSE: ', RMSE)\n",
    "    print('Model: ', name, ' | MAPE: ', MAPE)\n",
    "    print('----------------')"
   ]
  },
  {
   "cell_type": "markdown",
   "id": "1d71c984-750d-4344-9071-2cf1e45520ab",
   "metadata": {},
   "source": [
    "## <a id='regression_all'></a>\n",
    "## 3. Prediction with Regression model all features"
   ]
  },
  {
   "cell_type": "markdown",
   "id": "8a13c518-28e9-4296-97e0-68af6ca652a9",
   "metadata": {},
   "source": [
    "### 3.1 Create Train & Test set"
   ]
  },
  {
   "cell_type": "code",
   "execution_count": 17,
   "id": "5ad2216d-5a4c-49ea-a843-49384510d2dc",
   "metadata": {},
   "outputs": [],
   "source": [
    "y = df_forecast['Yield of the ten-year Treasury Notes']\n",
    "X = df_forecast.drop('Yield of the ten-year Treasury Notes',1)"
   ]
  },
  {
   "cell_type": "code",
   "execution_count": 18,
   "id": "93e22e72-5a05-4822-9989-b7386c283a64",
   "metadata": {},
   "outputs": [],
   "source": [
    "X_train, X_test, y_train, y_test = train_test_split(X, y, test_size=0.20, shuffle=False)"
   ]
  },
  {
   "cell_type": "code",
   "execution_count": 19,
   "id": "8a6bf337-cd59-43df-b6bd-22477f86a85a",
   "metadata": {},
   "outputs": [
    {
     "name": "stdout",
     "output_type": "stream",
     "text": [
      "Number of training data: 180\n",
      "Number of test data: 46\n"
     ]
    }
   ],
   "source": [
    "print('Number of training data:', len(X_train))\n",
    "print('Number of test data:', len(X_test))"
   ]
  },
  {
   "cell_type": "markdown",
   "id": "a71565a3-891a-4dac-ad27-f84c6e68df9f",
   "metadata": {
    "tags": []
   },
   "source": [
    "### 3.2 XGBoost"
   ]
  },
  {
   "cell_type": "code",
   "execution_count": 20,
   "id": "d1e6366e-79af-4eb0-b50d-4be4f2b03345",
   "metadata": {},
   "outputs": [
    {
     "data": {
      "text/plain": [
       "XGBRegressor(base_score=0.5, booster='gblinear', callbacks=None,\n",
       "             colsample_bylevel=None, colsample_bynode=None,\n",
       "             colsample_bytree=None, early_stopping_rounds=None,\n",
       "             enable_categorical=False, eval_metric=None, gamma=None, gpu_id=-1,\n",
       "             grow_policy=None, importance_type=None,\n",
       "             interaction_constraints=None, learning_rate=0.5, max_bin=None,\n",
       "             max_cat_to_onehot=None, max_delta_step=None, max_depth=None,\n",
       "             max_leaves=None, min_child_weight=None, missing=nan,\n",
       "             monotone_constraints=None, n_estimators=100, n_jobs=0,\n",
       "             num_parallel_tree=None, predictor=None, random_state=0,\n",
       "             reg_alpha=0, reg_lambda=0, ...)"
      ]
     },
     "execution_count": 20,
     "metadata": {},
     "output_type": "execute_result"
    }
   ],
   "source": [
    "# Create XGBoost model\n",
    "xgb_lin = xgb.XGBRegressor(booster='gblinear')\n",
    "xgb_lin.fit(X_train, y_train)"
   ]
  },
  {
   "cell_type": "code",
   "execution_count": 21,
   "id": "fbe75028-4b82-4131-8c43-fc6ad2c022ce",
   "metadata": {},
   "outputs": [
    {
     "name": "stdout",
     "output_type": "stream",
     "text": [
      "Training Set Score R^2: 0.98\n",
      "Test Set Score R^2: 0.80\n"
     ]
    }
   ],
   "source": [
    "print (\"Training Set Score R^2: {:.2f}\".format(xgb_lin.score(X_train, y_train)))\n",
    "print (\"Test Set Score R^2: {:.2f}\".format(xgb_lin.score(X_test, y_test)))"
   ]
  },
  {
   "cell_type": "markdown",
   "id": "9b412fe4-52ab-4593-8e4d-56cde4dad03b",
   "metadata": {},
   "source": [
    "#### 3.2.1 Feature importance"
   ]
  },
  {
   "cell_type": "code",
   "execution_count": 22,
   "id": "2ee836ef-2aef-429a-b1ba-99495f1fede5",
   "metadata": {},
   "outputs": [
    {
     "data": {
      "text/plain": [
       "<AxesSubplot:title={'center':'Feature importance'}, xlabel='F score', ylabel='Features'>"
      ]
     },
     "execution_count": 22,
     "metadata": {},
     "output_type": "execute_result"
    },
    {
     "data": {
      "image/png": "[encoded data removed]",
      "text/plain": [
       "<Figure size 432x288 with 1 Axes>"
      ]
     },
     "metadata": {
      "needs_background": "light"
     },
     "output_type": "display_data"
    }
   ],
   "source": [
    "# Linear based importance\n",
    "xgb.plot_importance(xgb_lin)"
   ]
  },
  {
   "cell_type": "markdown",
   "id": "10f37ae3-6a3c-406d-8b99-c612b4295f6d",
   "metadata": {},
   "source": [
    "### 3.3 Pipeline"
   ]
  },
  {
   "cell_type": "code",
   "execution_count": 23,
   "id": "5e407011-7378-4e92-92e2-8dd244c63fc3",
   "metadata": {},
   "outputs": [],
   "source": [
    "# Name of all the models\n",
    "models = [('XGBOOst, Linear',xgb_lin)]"
   ]
  },
  {
   "cell_type": "code",
   "execution_count": 24,
   "id": "412a868d-73f6-4d27-9615-38ecf7f656b8",
   "metadata": {},
   "outputs": [
    {
     "name": "stdout",
     "output_type": "stream",
     "text": [
      "Model:  XGBOOst, Linear  | R2 Train:  0.9773769929189623\n",
      "Model:  XGBOOst, Linear  | R2 Test:  0.9384345624775762\n",
      "Model:  XGBOOst, Linear  | MAE:  0.16297497207703798\n",
      "Model:  XGBOOst, Linear  | MSE:  0.04166692948738795\n",
      "Model:  XGBOOst, Linear  | RMSE:  0.2041247890075773\n",
      "Model:  XGBOOst, Linear  | MAPE:  0.11569561307536963\n",
      "----------------\n"
     ]
    }
   ],
   "source": [
    "for name, model in models:\n",
    "    pipelined_model = Pipeline([ \n",
    "                                 (name, model)\n",
    "                            ])\n",
    "    \n",
    "    # Train the model\n",
    "    pipelined_model.fit(X_train, y_train)\n",
    "\n",
    "    # Predict the model\n",
    "    y_hat = pipelined_model.predict(X_test)\n",
    "\n",
    "    # Calculate metrics\n",
    "    MAE = mean_absolute_error(y_test, y_hat)\n",
    "    MSE = mean_squared_error(y_test, y_hat, squared=True)\n",
    "    RMSE = mean_squared_error(y_test, y_hat, squared=False)\n",
    "    MAPE = mean_absolute_percentage_error(y_test, y_hat)\n",
    "    R2_train = pipelined_model.score(X_train, y_train)\n",
    "    R2_test = r2_score(y_test, y_hat)\n",
    "    print('Model: ', name, ' | R2 Train: ', R2_train)\n",
    "    print('Model: ', name, ' | R2 Test: ', R2_test)\n",
    "    print('Model: ', name, ' | MAE: ', MAE)\n",
    "    print('Model: ', name, ' | MSE: ', MSE)\n",
    "    print('Model: ', name, ' | RMSE: ', RMSE)\n",
    "    print('Model: ', name, ' | MAPE: ', MAPE)\n",
    "    print('----------------')"
   ]
  }
 ],
 "metadata": {
  "kernelspec": {
   "display_name": "Python 3 (ipykernel)",
   "language": "python",
   "name": "python3"
  },
  "language_info": {
   "codemirror_mode": {
    "name": "ipython",
    "version": 3
   },
   "file_extension": ".py",
   "mimetype": "text/x-python",
   "name": "python",
   "nbconvert_exporter": "python",
   "pygments_lexer": "ipython3",
   "version": "3.9.7"
  }
 },
 "nbformat": 4,
 "nbformat_minor": 5
}
